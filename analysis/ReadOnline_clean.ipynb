{
 "cells": [
  {
   "cell_type": "code",
   "execution_count": 13,
   "id": "0c41314f-6492-43c4-ac45-de9ca3fb6dc9",
   "metadata": {
    "pycharm": {
     "name": "#%%\n"
    }
   },
   "outputs": [
    {
     "name": "stdout",
     "output_type": "stream",
     "text": [
      "The autoreload extension is already loaded. To reload it, use:\n",
      "  %reload_ext autoreload\n"
     ]
    }
   ],
   "source": [
    "import pandas as pd\n",
    "import pingouin as pg\n",
    "import numpy as np\n",
    "import random\n",
    "import seaborn as sns\n",
    "import matplotlib.pyplot as plt\n",
    "from scipy.stats import pearsonr, kendalltau\n",
    "from read_data import *\n",
    "\n",
    "%load_ext autoreload\n",
    "%autoreload 2"
   ]
  },
  {
   "cell_type": "markdown",
   "id": "98a4cbbe-a2c1-4b2b-935d-787f4b7ba38b",
   "metadata": {
    "pycharm": {
     "name": "#%% md\n"
    }
   },
   "source": [
    "## Main experiment"
   ]
  },
  {
   "cell_type": "code",
   "execution_count": 14,
   "id": "f306e0f6-ad13-44f4-ab05-fe1cf79afdda",
   "metadata": {
    "pycharm": {
     "name": "#%%\n"
    }
   },
   "outputs": [],
   "source": [
    "allsubjdata = get_main_exp_data()"
   ]
  },
  {
   "cell_type": "code",
   "execution_count": 15,
   "id": "efa8e25c",
   "metadata": {},
   "outputs": [
    {
     "name": "stdout",
     "output_type": "stream",
     "text": [
      "scene\n",
      "expected\n",
      "initview\n",
      "finalview\n",
      "img_2\n",
      "img_3\n",
      "img_4\n",
      "probe_1\n",
      "probe_2\n",
      "int_diff\n",
      "samediff\n",
      "task\n",
      "simpleseq\n",
      "zoomseq\n",
      "p_exp\n",
      "cond_practice\n",
      "response\n",
      "corr_resp\n",
      "hit\n",
      "rt\n",
      "subject\n",
      "date\n",
      "time\n"
     ]
    }
   ],
   "source": [
    "for col in allsubjdata.columns:\n",
    "    print(col)"
   ]
  },
  {
   "cell_type": "code",
   "execution_count": null,
   "id": "db9a5a7b",
   "metadata": {},
   "outputs": [],
   "source": [
    "allsubjdata = allsubjdata.drop(columns=['samediff', 'task', 'simpleseq', 'zoomseq', 'cond_practice'])"
   ]
  },
  {
   "cell_type": "code",
   "execution_count": null,
   "id": "6d6bc321",
   "metadata": {},
   "outputs": [],
   "source": [
    "allsubjdata.to_csv('allsubjdata_clean.csv')"
   ]
  },
  {
   "cell_type": "code",
   "execution_count": null,
   "id": "a0bc0f67",
   "metadata": {},
   "outputs": [],
   "source": [
    "allsubjdata.subject.nunique()"
   ]
  },
  {
   "cell_type": "code",
   "execution_count": null,
   "id": "d3e7417c-47c0-4864-937c-d9bdd972a57e",
   "metadata": {
    "pycharm": {
     "name": "#%%\n"
    }
   },
   "outputs": [],
   "source": [
    "allsubjdata.corr_resp.unique()"
   ]
  },
  {
   "cell_type": "code",
   "execution_count": null,
   "id": "f10dff99-ea64-49b8-9120-03affa615b5e",
   "metadata": {
    "pycharm": {
     "name": "#%%\n"
    }
   },
   "outputs": [],
   "source": [
    "allsubjdata.p_exp.unique()"
   ]
  },
  {
   "cell_type": "code",
   "execution_count": null,
   "id": "9159550d-1407-4681-b359-b81eda156314",
   "metadata": {
    "pycharm": {
     "name": "#%%\n"
    }
   },
   "outputs": [],
   "source": [
    "exclude_subjs = make_staircase_plots(allsubjdata)"
   ]
  },
  {
   "cell_type": "code",
   "execution_count": null,
   "id": "e777fe40-f855-499b-8a59-d64d3fed31db",
   "metadata": {
    "pycharm": {
     "name": "#%%\n"
    }
   },
   "outputs": [],
   "source": [
    "len(exclude_subjs)"
   ]
  },
  {
   "cell_type": "code",
   "execution_count": null,
   "id": "306dd994-e184-4516-817b-1b3edef1e48f",
   "metadata": {
    "pycharm": {
     "name": "#%%\n"
    }
   },
   "outputs": [],
   "source": [
    "allsubjdata_noexcl = allsubjdata.copy()\n",
    "allsubjdata = allsubjdata[~allsubjdata.subject.isin(exclude_subjs)]"
   ]
  },
  {
   "cell_type": "code",
   "execution_count": null,
   "id": "163d1245-a70a-4deb-ab5c-7e73aef6cbf2",
   "metadata": {
    "pycharm": {
     "name": "#%%\n"
    }
   },
   "outputs": [],
   "source": [
    "allsubjdata.subject.nunique()"
   ]
  },
  {
   "cell_type": "code",
   "execution_count": null,
   "id": "6ba8ee63-b6c4-4b0c-b4dd-85372c79fe35",
   "metadata": {
    "pycharm": {
     "name": "#%%\n"
    }
   },
   "outputs": [],
   "source": [
    "allsubjdata = compute_dprimes(allsubjdata)\n",
    "allsubjdata_noexcl = compute_dprimes(allsubjdata_noexcl)"
   ]
  },
  {
   "cell_type": "code",
   "execution_count": null,
   "id": "922dcfac-bbf8-4eaf-b70e-1369ee56bc1b",
   "metadata": {
    "pycharm": {
     "name": "#%%\n"
    }
   },
   "outputs": [],
   "source": [
    "allsubjdata.response.value_counts(dropna=False)"
   ]
  },
  {
   "cell_type": "raw",
   "id": "7c350980-293b-4816-8689-617f9b814112",
   "metadata": {
    "pycharm": {
     "name": "#%% raw\n"
    }
   },
   "source": [
    "for i, s in enumerate(allsubjdata.subject.unique()):\n",
    "    thissub = allsubjdata[allsubjdata['subject']==s]\n",
    "    print(i, np.sum(pd.isna(thissub.response)))"
   ]
  },
  {
   "cell_type": "code",
   "execution_count": null,
   "id": "3e0fdf91-74fc-484a-ab62-717f260c6bb7",
   "metadata": {
    "pycharm": {
     "name": "#%%\n"
    }
   },
   "outputs": [],
   "source": [
    "p75data = allsubjdata[allsubjdata['p_exp']==0.75]\n",
    "p50data = allsubjdata[allsubjdata['p_exp']==0.5]\n",
    "p25data = allsubjdata[allsubjdata['p_exp']==0.25]"
   ]
  },
  {
   "cell_type": "code",
   "execution_count": null,
   "id": "9074d909-904d-4db3-adca-e15ef7c79996",
   "metadata": {
    "pycharm": {
     "name": "#%%\n"
    }
   },
   "outputs": [],
   "source": [
    "p75data[(p75data['subject']==8)&(p75data['expected']==1)].dprime.unique()"
   ]
  },
  {
   "cell_type": "code",
   "execution_count": null,
   "id": "6ecaebe9-59c1-4b20-bd61-8a58ff5463ea",
   "metadata": {
    "pycharm": {
     "name": "#%%\n"
    }
   },
   "outputs": [],
   "source": [
    "p75data[(p75data['subject']==8)&(p75data['expected']==0)].dprime.unique()"
   ]
  },
  {
   "cell_type": "code",
   "execution_count": null,
   "id": "370b7c10-b045-4f48-b735-7c1f0ce7426b",
   "metadata": {
    "pycharm": {
     "name": "#%%\n"
    }
   },
   "outputs": [],
   "source": [
    "p75data.subject.nunique()"
   ]
  },
  {
   "cell_type": "code",
   "execution_count": null,
   "id": "5e15b6cd-9307-4737-b80e-458bb4e90efd",
   "metadata": {
    "pycharm": {
     "name": "#%%\n"
    }
   },
   "outputs": [],
   "source": [
    "p75means = p75data.groupby(['subject', 'expected']).mean().reset_index()\n",
    "p50means = p50data.groupby(['subject', 'expected']).mean().reset_index()\n",
    "p25means = p25data.groupby(['subject', 'expected']).mean().reset_index()\n",
    "allmeans = allsubjdata.groupby(['subject', 'expected', 'p_exp']).mean().reset_index()"
   ]
  },
  {
   "cell_type": "code",
   "execution_count": null,
   "id": "56492bbb-2431-42e0-a487-b4a4e83054f5",
   "metadata": {
    "pycharm": {
     "name": "#%%\n"
    }
   },
   "outputs": [],
   "source": [
    "allmeans['hit'].corr(allmeans['criterion'], method='pearson')"
   ]
  },
  {
   "cell_type": "code",
   "execution_count": null,
   "id": "dc0444ee-44cf-49f3-8b38-1aa026093d0d",
   "metadata": {
    "pycharm": {
     "name": "#%%\n"
    }
   },
   "outputs": [],
   "source": [
    "allmeans['hit'].corr(allmeans['dprime'], method='pearson')"
   ]
  },
  {
   "cell_type": "code",
   "execution_count": null,
   "id": "cc8e3c1f",
   "metadata": {},
   "outputs": [],
   "source": [
    "allmeans[allmeans['expected']==0]['dprime'].corr(allmeans['criterion'], method='pearson')"
   ]
  },
  {
   "cell_type": "code",
   "execution_count": null,
   "id": "8c1c2a86",
   "metadata": {},
   "outputs": [],
   "source": [
    "allmeans[allmeans['expected']==1]['dprime'].corr(allmeans['criterion'], method='pearson')"
   ]
  },
  {
   "cell_type": "code",
   "execution_count": null,
   "id": "4320680b-17bd-4116-8bd0-b5b94dc7975a",
   "metadata": {
    "pycharm": {
     "name": "#%%\n"
    }
   },
   "outputs": [],
   "source": [
    "overallmeans = allmeans.groupby(['subject']).mean().reset_index()"
   ]
  },
  {
   "cell_type": "code",
   "execution_count": null,
   "id": "7db5022c-822a-4c5e-b813-0d303f03696b",
   "metadata": {
    "pycharm": {
     "name": "#%%\n"
    }
   },
   "outputs": [],
   "source": [
    "# scatter plot of hit rate and d'\n",
    "plot = sns.jointplot(x='hit', y='dprime', data=allmeans[allmeans['expected']==1], palette='tab10')\n",
    "plot.ax_joint.axvline(0.5, linestyle='--', color='grey')\n",
    "plot.ax_joint.axhline(0.0, linestyle='--', color='grey')\n",
    "plot.ax_marg_x.axvline(0.5, linestyle='--', color='grey')\n",
    "plot.ax_marg_y.axhline(0.0, linestyle='--', color='grey')"
   ]
  },
  {
   "cell_type": "code",
   "execution_count": null,
   "id": "bad9a2f3-ab82-43b4-8702-cfa950318668",
   "metadata": {
    "pycharm": {
     "name": "#%%\n"
    }
   },
   "outputs": [],
   "source": [
    "# scatter plot of hit rate and d'\n",
    "plot = sns.jointplot(x='hit', y='dprime', data=allmeans[allmeans['expected']==0], palette='tab10')\n",
    "plot.ax_joint.axvline(0.5, linestyle='--', color='grey')\n",
    "plot.ax_joint.axhline(0.0, linestyle='--', color='grey')\n",
    "plot.ax_marg_x.axvline(0.5, linestyle='--', color='grey')\n",
    "plot.ax_marg_y.axhline(0.0, linestyle='--', color='grey')"
   ]
  },
  {
   "cell_type": "code",
   "execution_count": null,
   "id": "59b038e3-44e2-4bd4-8604-50ffeaeb6a4c",
   "metadata": {
    "pycharm": {
     "name": "#%%\n"
    }
   },
   "outputs": [],
   "source": [
    "# scatter plot of hit rate and criterion\n",
    "plot = sns.jointplot(x='hit', y='criterion', data=allmeans[allmeans['expected']==0], \n",
    "                     hue='p_exp', palette='tab10')\n",
    "plot.ax_joint.axvline(0.5, linestyle='--', color='grey')\n",
    "plot.ax_joint.axhline(0.0, linestyle='--', color='grey')\n",
    "plot.ax_marg_x.axvline(0.5, linestyle='--', color='grey')\n",
    "plot.ax_marg_y.axhline(0.0, linestyle='--', color='grey')"
   ]
  },
  {
   "cell_type": "code",
   "execution_count": null,
   "id": "ea1e35d7-892a-463c-9e5e-0f92ab6399a9",
   "metadata": {
    "pycharm": {
     "name": "#%%\n"
    }
   },
   "outputs": [],
   "source": [
    "# scatter plot of hit rate and criterion\n",
    "plot = sns.jointplot(x='hit', y='criterion', data=allmeans[allmeans['expected']==1], \n",
    "                     hue='p_exp', palette='tab10')\n",
    "plot.ax_joint.axvline(0.5, linestyle='--', color='grey')\n",
    "plot.ax_joint.axhline(0.0, linestyle='--', color='grey')\n",
    "plot.ax_marg_x.axvline(0.5, linestyle='--', color='grey')\n",
    "plot.ax_marg_y.axhline(0.0, linestyle='--', color='grey')"
   ]
  },
  {
   "cell_type": "code",
   "execution_count": null,
   "id": "e5a2791b",
   "metadata": {},
   "outputs": [],
   "source": [
    "# scatter plot of d' and criterion\n",
    "plot = sns.jointplot(x='dprime', y='criterion', data=allmeans[allmeans['expected']==1], palette='tab10')\n",
    "plot.ax_joint.axvline(0.0, linestyle='--', color='grey')\n",
    "plot.ax_joint.axhline(0.0, linestyle='--', color='grey')\n",
    "plot.ax_marg_x.axvline(0.0, linestyle='--', color='grey')\n",
    "plot.ax_marg_y.axhline(0.0, linestyle='--', color='grey')"
   ]
  },
  {
   "cell_type": "code",
   "execution_count": null,
   "id": "e6986bce",
   "metadata": {},
   "outputs": [],
   "source": [
    "# scatter plot of d' and criterion\n",
    "plot = sns.jointplot(x='dprime', y='criterion', data=allmeans[allmeans['expected']==0], palette='tab10')\n",
    "plot.ax_joint.axvline(0.0, linestyle='--', color='grey')\n",
    "plot.ax_joint.axhline(0.0, linestyle='--', color='grey')\n",
    "plot.ax_marg_x.axvline(0.0, linestyle='--', color='grey')\n",
    "plot.ax_marg_y.axhline(0.0, linestyle='--', color='grey')"
   ]
  },
  {
   "cell_type": "code",
   "execution_count": null,
   "id": "17515ed0-d70d-443a-8ac5-1ac6a6848a9d",
   "metadata": {
    "pycharm": {
     "name": "#%%\n"
    }
   },
   "outputs": [],
   "source": [
    "allmeans[allmeans['expected']==0]['hit'].corr(allmeans['criterion'], method='pearson')"
   ]
  },
  {
   "cell_type": "markdown",
   "id": "7c7bf0fa-f461-4361-a920-e326f664f39e",
   "metadata": {
    "pycharm": {
     "name": "#%% md\n"
    }
   },
   "source": [
    "## Sanity checks"
   ]
  },
  {
   "cell_type": "code",
   "execution_count": null,
   "id": "93dd57d6-3f44-41cc-8235-3bc2abb02e2a",
   "metadata": {
    "pycharm": {
     "name": "#%%\n"
    }
   },
   "outputs": [],
   "source": [
    "allmeans.groupby(['subject', 'p_exp']).mean().reset_index().groupby(['p_exp'])[['hit', 'criterion']].agg(['mean', 'sem'])"
   ]
  },
  {
   "cell_type": "code",
   "execution_count": null,
   "id": "af0e186c-c26a-453b-9fa7-d271852d14fe",
   "metadata": {
    "pycharm": {
     "name": "#%%\n"
    }
   },
   "outputs": [],
   "source": [
    "pg.ttest(p75means.groupby(['subject']).mean().reset_index()['criterion'], 0.0)"
   ]
  },
  {
   "cell_type": "code",
   "execution_count": null,
   "id": "616ca63f-7bcf-4eef-aeae-28ed4d736680",
   "metadata": {
    "pycharm": {
     "name": "#%%\n"
    }
   },
   "outputs": [],
   "source": [
    "pg.ttest(p50means.groupby(['subject']).mean().reset_index()['criterion'], 0.0)"
   ]
  },
  {
   "cell_type": "code",
   "execution_count": null,
   "id": "6a57e340-0f27-466e-94c4-d2604852bda2",
   "metadata": {
    "pycharm": {
     "name": "#%%\n"
    }
   },
   "outputs": [],
   "source": [
    "pg.ttest(p25means.groupby(['subject']).mean().reset_index()['criterion'], 0.0)"
   ]
  },
  {
   "cell_type": "markdown",
   "id": "1feb8c05-7de1-40e3-9085-601d77100cfe",
   "metadata": {
    "pycharm": {
     "name": "#%% md\n"
    }
   },
   "source": [
    "## Statistics"
   ]
  },
  {
   "cell_type": "code",
   "execution_count": null,
   "id": "21165d40-b6ba-485c-9a1f-180638bab1de",
   "metadata": {
    "pycharm": {
     "name": "#%%\n"
    }
   },
   "outputs": [],
   "source": [
    "p75means.groupby(['expected'])[['hit']].agg(['mean', 'sem'])"
   ]
  },
  {
   "cell_type": "code",
   "execution_count": null,
   "id": "ab6255ef",
   "metadata": {},
   "outputs": [],
   "source": [
    "pg.ttest(p75means[p75means['expected']==1].hit, p75means[p75means['expected']==0].hit, paired=True)"
   ]
  },
  {
   "cell_type": "code",
   "execution_count": null,
   "id": "a09f724d",
   "metadata": {},
   "outputs": [],
   "source": [
    "p50means.groupby(['expected'])[['hit']].agg(['mean', 'sem'])"
   ]
  },
  {
   "cell_type": "code",
   "execution_count": null,
   "id": "95360672",
   "metadata": {},
   "outputs": [],
   "source": [
    "pg.ttest(p50means[p50means['expected']==1].hit, p50means[p50means['expected']==0].hit, paired=True)"
   ]
  },
  {
   "cell_type": "code",
   "execution_count": null,
   "id": "b8b6332d",
   "metadata": {},
   "outputs": [],
   "source": [
    "p25means.groupby(['expected'])[['hit']].agg(['mean', 'sem'])"
   ]
  },
  {
   "cell_type": "code",
   "execution_count": null,
   "id": "22e49f7a",
   "metadata": {},
   "outputs": [],
   "source": [
    "pg.ttest(p25means[p25means['expected']==1].hit, p25means[p25means['expected']==0].hit, paired=True)"
   ]
  },
  {
   "cell_type": "code",
   "execution_count": null,
   "id": "f4a969ff-32a4-41b8-9fcb-0aa90d33a15f",
   "metadata": {
    "pycharm": {
     "name": "#%%\n"
    }
   },
   "outputs": [],
   "source": [
    "pg.ttest(p75means[p75means['expected']==1].criterion, p75means[p75means['expected']==0].criterion, paired=True)"
   ]
  },
  {
   "cell_type": "code",
   "execution_count": null,
   "id": "9cddbfff-0985-4686-934c-8fa2f5a80fcf",
   "metadata": {
    "pycharm": {
     "name": "#%%\n"
    }
   },
   "outputs": [],
   "source": [
    "pg.ttest(p75means[p75means['expected']==1].dprime, p75means[p75means['expected']==0].dprime, paired=True)"
   ]
  },
  {
   "cell_type": "code",
   "execution_count": null,
   "id": "5477fb58-cb98-4ea4-a730-13ed82bcf135",
   "metadata": {
    "pycharm": {
     "name": "#%%\n"
    }
   },
   "outputs": [],
   "source": [
    "p50means.groupby(['expected'])[['criterion', 'dprime']].agg(['mean', 'sem'])"
   ]
  },
  {
   "cell_type": "code",
   "execution_count": null,
   "id": "19d2051f-f350-4cd3-88d7-cec2aa21ee87",
   "metadata": {
    "pycharm": {
     "name": "#%%\n"
    }
   },
   "outputs": [],
   "source": [
    "pg.ttest(p50means[p50means['expected']==1].criterion, p50means[p50means['expected']==0].criterion, paired=True)"
   ]
  },
  {
   "cell_type": "code",
   "execution_count": null,
   "id": "e640b794",
   "metadata": {},
   "outputs": [],
   "source": [
    "pg.ttest(p50means[p50means['expected']==1].hit, p50means[p50means['expected']==0].hit, paired=True)"
   ]
  },
  {
   "cell_type": "code",
   "execution_count": null,
   "id": "d7803be9-34d9-493e-8ed4-4805c82b1b63",
   "metadata": {
    "pycharm": {
     "name": "#%%\n"
    }
   },
   "outputs": [],
   "source": [
    "pg.ttest(p50means[p50means['expected']==1].dprime, p50means[p50means['expected']==0].dprime, paired=True)"
   ]
  },
  {
   "cell_type": "code",
   "execution_count": null,
   "id": "5c0b0308-1de3-4d4a-885a-2bf67961e1e0",
   "metadata": {
    "pycharm": {
     "name": "#%%\n"
    }
   },
   "outputs": [],
   "source": [
    "p25means.groupby(['expected'])[['criterion', 'dprime', 'hit']].agg(['mean', 'sem'])"
   ]
  },
  {
   "cell_type": "code",
   "execution_count": null,
   "id": "289b3e3d",
   "metadata": {},
   "outputs": [],
   "source": [
    "pg.ttest(p25means[p25means['expected']==1].hit, p25means[p25means['expected']==0].hit, paired=True)"
   ]
  },
  {
   "cell_type": "code",
   "execution_count": null,
   "id": "365f50e1-1581-4274-90a9-1727d12682b2",
   "metadata": {
    "pycharm": {
     "name": "#%%\n"
    }
   },
   "outputs": [],
   "source": [
    "pg.ttest(p25means[p25means['expected']==1].criterion, p25means[p25means['expected']==0].criterion, paired=True)"
   ]
  },
  {
   "cell_type": "code",
   "execution_count": null,
   "id": "c96b20a0-cee6-4006-9998-2b3f5a104646",
   "metadata": {
    "pycharm": {
     "name": "#%%\n"
    }
   },
   "outputs": [],
   "source": [
    "pg.ttest(p25means[p25means['expected']==1].dprime, p25means[p25means['expected']==0].dprime, paired=True)"
   ]
  },
  {
   "cell_type": "code",
   "execution_count": null,
   "id": "38dc2229-f96c-4ac7-b76d-54da5604db34",
   "metadata": {
    "pycharm": {
     "name": "#%%\n"
    }
   },
   "outputs": [],
   "source": [
    "p75means.groupby(['expected'])[['hit', 'dprime', 'criterion']].agg(['mean', 'sem'])"
   ]
  },
  {
   "cell_type": "code",
   "execution_count": null,
   "id": "d60b3c9d-3dbb-4002-a49a-6c2c1d856262",
   "metadata": {
    "pycharm": {
     "name": "#%%\n"
    }
   },
   "outputs": [],
   "source": [
    "p50means.groupby(['expected'])[['hit', 'dprime', 'criterion']].agg(['mean', 'sem'])"
   ]
  },
  {
   "cell_type": "code",
   "execution_count": null,
   "id": "aa83c465-3c09-405d-91f8-092428311765",
   "metadata": {
    "pycharm": {
     "name": "#%%\n"
    }
   },
   "outputs": [],
   "source": [
    "p25means.groupby(['expected'])[['hit', 'dprime', 'criterion']].agg(['mean', 'sem'])"
   ]
  },
  {
   "cell_type": "code",
   "execution_count": null,
   "id": "4448dbdb",
   "metadata": {},
   "outputs": [],
   "source": [
    "allmeans_samesample = allmeans[~((allmeans['p_exp']==0.25)&(allmeans['subject'].isin([10, 130])))]"
   ]
  },
  {
   "cell_type": "code",
   "execution_count": null,
   "id": "1e11a325",
   "metadata": {},
   "outputs": [],
   "source": [
    "allmeans_samesample[allmeans_samesample['p_exp']==0.25].subject.nunique()"
   ]
  },
  {
   "cell_type": "code",
   "execution_count": null,
   "id": "9288db99-130d-4057-a907-64ff6f41f998",
   "metadata": {
    "pycharm": {
     "name": "#%%\n"
    }
   },
   "outputs": [],
   "source": [
    "aov = pg.mixed_anova(dv='hit', within='expected',\n",
    "                             between='p_exp',\n",
    "                             subject='subject', \n",
    "                             data=allmeans)\n",
    "pg.print_table(aov)"
   ]
  },
  {
   "cell_type": "code",
   "execution_count": null,
   "id": "fc5a7d13",
   "metadata": {},
   "outputs": [],
   "source": [
    "aov"
   ]
  },
  {
   "cell_type": "code",
   "execution_count": null,
   "id": "419fb1ac",
   "metadata": {},
   "outputs": [],
   "source": [
    "allmeans.expected.unique()"
   ]
  },
  {
   "cell_type": "code",
   "execution_count": null,
   "id": "6ad5d32a",
   "metadata": {},
   "outputs": [],
   "source": [
    "allhitdiffs = []\n",
    "allpexp = []\n",
    "for pe in allmeans.p_exp.unique():\n",
    "    thesediffs = list(allmeans[(allmeans['p_exp']==pe)&(allmeans['expected']==1)].hit.values - \\\n",
    "        allmeans[(allmeans['p_exp']==pe)&(allmeans['expected']==0)].hit.values)\n",
    "    allhitdiffs.extend(thesediffs)\n",
    "    allpexp.extend([pe] * len(thesediffs))\n",
    "allhitdiffs = pd.DataFrame(list(zip(allpexp, allhitdiffs)), columns =['p_exp', 'diff'])\n",
    "    "
   ]
  },
  {
   "cell_type": "code",
   "execution_count": null,
   "id": "7e8af946",
   "metadata": {},
   "outputs": [],
   "source": [
    "pairwisepvals = []\n",
    "for pair in [[0.75, 0.5], [0.75, 0.25], [0.5, 0.25]]:\n",
    "    tstats = pg.ttest(allhitdiffs[allhitdiffs['p_exp']==pair[0]]['diff'], allhitdiffs[allhitdiffs['p_exp']==pair[1]]['diff'])\n",
    "    print(f\"{pair[0]} vs. {pair[1]}\")\n",
    "    pg.print_table(tstats)\n",
    "    pairwisepvals.append(tstats['p-val'])"
   ]
  },
  {
   "cell_type": "code",
   "execution_count": null,
   "id": "7bc4ceea",
   "metadata": {},
   "outputs": [],
   "source": [
    "pg.multicomp(pairwisepvals, method='bonf')"
   ]
  },
  {
   "cell_type": "code",
   "execution_count": null,
   "id": "640a7d93",
   "metadata": {},
   "outputs": [],
   "source": [
    "#thisdiff.shape"
   ]
  },
  {
   "cell_type": "code",
   "execution_count": null,
   "id": "d1dbd5d3",
   "metadata": {},
   "outputs": [],
   "source": [
    "pairwise_stats = pg.pairwise_ttests(dv='hit', \n",
    "                                    between='p_exp', \n",
    "                                    within='expected', \n",
    "                                    subject='subject',\n",
    "                                    data=allmeans)\n",
    "pg.print_table(pairwise_stats)"
   ]
  },
  {
   "cell_type": "code",
   "execution_count": null,
   "id": "fb15ac5d",
   "metadata": {},
   "outputs": [],
   "source": []
  },
  {
   "cell_type": "code",
   "execution_count": null,
   "id": "9288db99-130d-4057-a907-64ff6f41f998",
   "metadata": {
    "pycharm": {
     "name": "#%%\n"
    }
   },
   "outputs": [],
   "source": [
    "aov = pg.mixed_anova(dv='dprime', within='expected',\n",
    "                             between='p_exp',\n",
    "                             subject='subject', \n",
    "                             data=allmeans)\n",
    "pg.print_table(aov)"
   ]
  },
  {
   "cell_type": "code",
   "execution_count": null,
   "id": "46b0c99b-4707-43af-ba81-71a6f6e08993",
   "metadata": {
    "pycharm": {
     "name": "#%%\n"
    }
   },
   "outputs": [],
   "source": [
    "aov = pg.mixed_anova(dv='criterion', within='expected',\n",
    "                             between='p_exp',\n",
    "                             subject='subject', \n",
    "                             data=allmeans)\n",
    "pg.print_table(aov)"
   ]
  },
  {
   "cell_type": "code",
   "execution_count": null,
   "id": "102f3a7d-faa5-4639-bfaf-13d285eae463",
   "metadata": {
    "pycharm": {
     "name": "#%%\n"
    }
   },
   "outputs": [],
   "source": [
    "sns.barplot(x='p_exp', y='dprime', hue='expected', \n",
    "            data=allmeans, order=[0.75, 0.5, 0.25], hue_order=[1, 0])"
   ]
  },
  {
   "cell_type": "code",
   "execution_count": null,
   "id": "7216ab58-66a5-45eb-8967-4f48e6d04838",
   "metadata": {
    "pycharm": {
     "name": "#%%\n"
    }
   },
   "outputs": [],
   "source": [
    "sns.barplot(x='p_exp', y='criterion', hue='expected', \n",
    "             data=allmeans, order=[0.75, 0.5, 0.25], hue_order=[1, 0])"
   ]
  },
  {
   "cell_type": "markdown",
   "id": "977e7f95-35ff-486b-af2a-0ca60cc8bea1",
   "metadata": {
    "pycharm": {
     "name": "#%% md\n"
    }
   },
   "source": [
    "## Pretty plots"
   ]
  },
  {
   "cell_type": "code",
   "execution_count": null,
   "id": "a3a58145-fc0f-4dcb-958c-9a9b9182ec9f",
   "metadata": {
    "pycharm": {
     "name": "#%%\n"
    }
   },
   "outputs": [],
   "source": [
    "make_pretty_plot(p75means, measure='hit')"
   ]
  },
  {
   "cell_type": "code",
   "execution_count": null,
   "id": "a445f41d-8444-4f24-8587-7af13ba0f7b7",
   "metadata": {
    "pycharm": {
     "name": "#%%\n"
    }
   },
   "outputs": [],
   "source": [
    "make_pretty_plot(p75means, measure='dprime')"
   ]
  },
  {
   "cell_type": "code",
   "execution_count": null,
   "id": "9d5bd116",
   "metadata": {},
   "outputs": [],
   "source": [
    "make_pretty_plot(p75means, measure='criterion')"
   ]
  },
  {
   "cell_type": "code",
   "execution_count": null,
   "id": "6b7bf4d8-754d-42a3-87df-6097093d6357",
   "metadata": {
    "pycharm": {
     "name": "#%%\n"
    }
   },
   "outputs": [],
   "source": [
    "make_pretty_plot(p50means, measure='criterion')"
   ]
  },
  {
   "cell_type": "code",
   "execution_count": null,
   "id": "6dcdd447",
   "metadata": {},
   "outputs": [],
   "source": [
    "make_pretty_plot(p50means, measure='hit')"
   ]
  },
  {
   "cell_type": "code",
   "execution_count": null,
   "id": "8e0cd4ba-fd5d-4864-9a7b-fe1f39413a27",
   "metadata": {
    "pycharm": {
     "name": "#%%\n"
    }
   },
   "outputs": [],
   "source": [
    "make_pretty_plot(p50means, measure='dprime')"
   ]
  },
  {
   "cell_type": "code",
   "execution_count": null,
   "id": "1124bbc5",
   "metadata": {},
   "outputs": [],
   "source": [
    "make_pretty_plot(p25means, measure='hit')"
   ]
  },
  {
   "cell_type": "code",
   "execution_count": null,
   "id": "51aa2a84-4499-4612-ab4c-54150d6ec67e",
   "metadata": {
    "pycharm": {
     "name": "#%%\n"
    }
   },
   "outputs": [],
   "source": [
    "make_pretty_plot(p25means, measure='criterion')"
   ]
  },
  {
   "cell_type": "code",
   "execution_count": null,
   "id": "eaca0d4a-cee8-42c4-9544-f704b2bf824e",
   "metadata": {
    "pycharm": {
     "name": "#%%\n"
    }
   },
   "outputs": [],
   "source": [
    "make_pretty_plot(p25means, measure='dprime')"
   ]
  },
  {
   "attachments": {},
   "cell_type": "markdown",
   "id": "5d575ab9",
   "metadata": {},
   "source": [
    "## Results with no exclusions"
   ]
  },
  {
   "cell_type": "code",
   "execution_count": null,
   "id": "c58eb17f",
   "metadata": {},
   "outputs": [],
   "source": [
    "p75means_noexcl = allsubjdata_noexcl[allsubjdata_noexcl['p_exp']==0.75].groupby(\n",
    "    ['subject', 'expected']).mean().reset_index()\n",
    "p50means_noexcl = allsubjdata_noexcl[allsubjdata_noexcl['p_exp']==0.5].groupby(\n",
    "    ['subject', 'expected']).mean().reset_index()\n",
    "p25means_noexcl = allsubjdata_noexcl[allsubjdata_noexcl['p_exp']==0.25].groupby(\n",
    "    ['subject', 'expected']).mean().reset_index()\n",
    "allmeans_noexcl = allsubjdata_noexcl.groupby([\n",
    "    'subject', 'expected', 'p_exp']).mean().reset_index()"
   ]
  },
  {
   "attachments": {},
   "cell_type": "markdown",
   "id": "d5253daf",
   "metadata": {},
   "source": [
    "### Summary statistics"
   ]
  },
  {
   "cell_type": "code",
   "execution_count": null,
   "id": "857ba897",
   "metadata": {},
   "outputs": [],
   "source": [
    "p75means_noexcl.groupby(['expected'])[['hit']].agg(['mean', 'sem'])"
   ]
  },
  {
   "cell_type": "code",
   "execution_count": null,
   "id": "08c7fcf7",
   "metadata": {},
   "outputs": [],
   "source": [
    "p50means_noexcl.groupby(['expected'])[['hit']].agg(['mean', 'sem'])"
   ]
  },
  {
   "cell_type": "code",
   "execution_count": null,
   "id": "cf523b95",
   "metadata": {},
   "outputs": [],
   "source": [
    "p25means_noexcl.groupby(['expected'])[['hit']].agg(['mean', 'sem'])"
   ]
  },
  {
   "attachments": {},
   "cell_type": "markdown",
   "id": "d6a4c180",
   "metadata": {},
   "source": [
    "### Statistical tests"
   ]
  },
  {
   "cell_type": "code",
   "execution_count": null,
   "id": "8ad29714",
   "metadata": {},
   "outputs": [],
   "source": [
    "pg.ttest(p75means_noexcl[p75means_noexcl['expected']==1].hit, p75means_noexcl[p75means_noexcl['expected']==0].hit, paired=True)"
   ]
  },
  {
   "cell_type": "code",
   "execution_count": null,
   "id": "b3018398",
   "metadata": {},
   "outputs": [],
   "source": [
    "pg.ttest(p50means_noexcl[p50means_noexcl['expected']==1].hit, p50means_noexcl[p50means_noexcl['expected']==0].hit, paired=True)"
   ]
  },
  {
   "cell_type": "code",
   "execution_count": null,
   "id": "601a8b99",
   "metadata": {},
   "outputs": [],
   "source": [
    "pg.ttest(p25means_noexcl[p25means_noexcl['expected']==1].hit, p25means_noexcl[p25means_noexcl['expected']==0].hit, paired=True)"
   ]
  },
  {
   "attachments": {},
   "cell_type": "markdown",
   "id": "d058622b",
   "metadata": {},
   "source": [
    "### Plots"
   ]
  },
  {
   "cell_type": "code",
   "execution_count": null,
   "id": "8a98bf4a",
   "metadata": {},
   "outputs": [],
   "source": [
    "make_pretty_plot(p75means_noexcl, measure='hit', excl=False, fname='rot_p75_hit_noexcl.pdf')"
   ]
  },
  {
   "cell_type": "code",
   "execution_count": null,
   "id": "8afddc9a",
   "metadata": {},
   "outputs": [],
   "source": [
    "make_pretty_plot(p50means_noexcl, measure='hit', excl=False, fname='rot_p50_hit_noexcl.pdf')"
   ]
  },
  {
   "cell_type": "code",
   "execution_count": null,
   "id": "7c758b72",
   "metadata": {},
   "outputs": [],
   "source": [
    "make_pretty_plot(p25means_noexcl, measure='hit', excl=False, fname='rot_p25_hit_noexcl.pdf')"
   ]
  },
  {
   "cell_type": "markdown",
   "id": "ce998522-8a7e-4237-92e1-732b2f82aa87",
   "metadata": {
    "pycharm": {
     "name": "#%% md\n"
    }
   },
   "source": [
    "## Aligned vs. Misaligned"
   ]
  },
  {
   "cell_type": "code",
   "execution_count": null,
   "id": "0c103b61-2278-4706-a667-977e4c12ec2d",
   "metadata": {
    "pycharm": {
     "name": "#%%\n"
    }
   },
   "outputs": [],
   "source": [
    "almisaldata = allsubjdata.copy()\n",
    "almisaldata['aligned']=allsubjdata['initview'].isin([0, 180])\n",
    "for al in almisaldata.aligned.unique():\n",
    "    almisaldata[almisaldata['aligned']==al] = compute_dprimes(almisaldata[almisaldata['aligned']==al])\n",
    "almisalmeans = almisaldata.groupby(['p_exp', 'aligned', 'expected', 'subject']).mean().reset_index()"
   ]
  },
  {
   "cell_type": "code",
   "execution_count": null,
   "id": "89763528",
   "metadata": {},
   "outputs": [],
   "source": [
    "almisalmeans.head()"
   ]
  },
  {
   "cell_type": "code",
   "execution_count": null,
   "id": "656211c2",
   "metadata": {},
   "outputs": [],
   "source": [
    "almisalmeans.groupby(['aligned']).hit.mean()"
   ]
  },
  {
   "cell_type": "code",
   "execution_count": null,
   "id": "e9d88e50",
   "metadata": {},
   "outputs": [],
   "source": [
    "almisalmeans.groupby(['expected']).hit.mean()"
   ]
  },
  {
   "cell_type": "code",
   "execution_count": null,
   "id": "2e82cb4d",
   "metadata": {},
   "outputs": [],
   "source": [
    "aov = pg.rm_anova(almisalmeans, dv='hit', within=['aligned', 'expected'], subject='subject')\n",
    "pg.print_table(aov)"
   ]
  },
  {
   "cell_type": "code",
   "execution_count": null,
   "id": "81907fbe",
   "metadata": {},
   "outputs": [],
   "source": [
    "aov = pg.rm_anova(almisalmeans[almisalmeans['p_exp'].isin([0.75])], dv='hit', within=['aligned', 'expected'], subject='subject')\n",
    "pg.print_table(aov)"
   ]
  },
  {
   "cell_type": "code",
   "execution_count": null,
   "id": "13337e3f",
   "metadata": {},
   "outputs": [],
   "source": [
    "aov = pg.rm_anova(almisalmeans[almisalmeans['p_exp'].isin([0.5])], dv='hit', within=['aligned', 'expected'], subject='subject')\n",
    "pg.print_table(aov)"
   ]
  },
  {
   "cell_type": "code",
   "execution_count": null,
   "id": "891dd474",
   "metadata": {},
   "outputs": [],
   "source": [
    "aov = pg.rm_anova(almisalmeans[almisalmeans['p_exp'].isin([0.25])], dv='hit', within=['aligned', 'expected'], subject='subject')\n",
    "pg.print_table(aov)"
   ]
  },
  {
   "cell_type": "code",
   "execution_count": null,
   "id": "ee39c3b0",
   "metadata": {},
   "outputs": [],
   "source": [
    "almisaldata['p_exp'].unique()"
   ]
  },
  {
   "cell_type": "code",
   "execution_count": null,
   "id": "2a9ca1b2-779e-4850-b367-dfbeae21eb06",
   "metadata": {
    "pycharm": {
     "name": "#%%\n"
    }
   },
   "outputs": [],
   "source": [
    "almisaldata[(almisaldata['aligned']==True)&(almisaldata['expected']==1)].dprime.mean()"
   ]
  },
  {
   "cell_type": "code",
   "execution_count": null,
   "id": "57f07ec2-aa38-40e2-a918-7db96906f0d8",
   "metadata": {
    "pycharm": {
     "name": "#%%\n"
    }
   },
   "outputs": [],
   "source": [
    "almisaldata[(almisaldata['aligned']==True)&(almisaldata['expected']==0)].dprime.mean()"
   ]
  },
  {
   "cell_type": "code",
   "execution_count": null,
   "id": "d845354a-5b98-4c86-85e2-e4af33a83c5d",
   "metadata": {
    "pycharm": {
     "name": "#%%\n"
    }
   },
   "outputs": [],
   "source": [
    "almisaldata[(almisaldata['aligned']==False)&(almisaldata['expected']==1)].dprime.mean()"
   ]
  },
  {
   "cell_type": "code",
   "execution_count": null,
   "id": "d918b513-d425-4e00-8cb8-83b1354aa4af",
   "metadata": {
    "pycharm": {
     "name": "#%%\n"
    }
   },
   "outputs": [],
   "source": [
    "almisaldata[(almisaldata['aligned']==False)&(almisaldata['expected']==0)].dprime.mean()"
   ]
  },
  {
   "attachments": {},
   "cell_type": "markdown",
   "id": "405b170a",
   "metadata": {},
   "source": [
    "### Aligned vs. Misaligned plot"
   ]
  },
  {
   "cell_type": "code",
   "execution_count": null,
   "id": "10e54d31",
   "metadata": {},
   "outputs": [],
   "source": [
    "almisalmeans.head()"
   ]
  },
  {
   "cell_type": "code",
   "execution_count": null,
   "id": "e49162d3",
   "metadata": {},
   "outputs": [],
   "source": [
    "alldiffs_acc = make_align_plot(almisalmeans, measure='hit', split=False)"
   ]
  },
  {
   "cell_type": "code",
   "execution_count": null,
   "id": "a45766ad",
   "metadata": {},
   "outputs": [],
   "source": [
    "pal = list(sns.color_palette('Set2'))[:2]"
   ]
  },
  {
   "cell_type": "code",
   "execution_count": null,
   "id": "f65520a6",
   "metadata": {},
   "outputs": [],
   "source": [
    "pal"
   ]
  },
  {
   "cell_type": "code",
   "execution_count": null,
   "id": "3c8a373f",
   "metadata": {},
   "outputs": [],
   "source": [
    "list(sns.color_palette('Paired'))[0]"
   ]
  },
  {
   "cell_type": "code",
   "execution_count": null,
   "id": "3ad46af1",
   "metadata": {},
   "outputs": [],
   "source": [
    "pal = [[list(sns.color_palette('Paired'))[0], list(sns.color_palette('Paired'))[6]],\n",
    "       [list(sns.color_palette('Paired'))[1], list(sns.color_palette('Paired'))[7]]]"
   ]
  },
  {
   "cell_type": "code",
   "execution_count": null,
   "id": "88a7fd08",
   "metadata": {},
   "outputs": [],
   "source": [
    "sns.color_palette(pal[0])"
   ]
  },
  {
   "cell_type": "code",
   "execution_count": null,
   "id": "39f09d15",
   "metadata": {},
   "outputs": [],
   "source": [
    "np.mean(np.array([[0.6509803921568628, 0.807843137254902, 0.8901960784313725],\n",
    "                  [0.12156862745098039, 0.47058823529411764, 0.7058823529411765]]), axis=0)"
   ]
  },
  {
   "cell_type": "code",
   "execution_count": null,
   "id": "ceafe331",
   "metadata": {},
   "outputs": [],
   "source": [
    "np.mean(np.array([[0.9921568627450981, 0.7490196078431373, 0.43529411764705883],\n",
    "                  [1.0, 0.4980392156862745, 0.0]]), axis=0)"
   ]
  },
  {
   "cell_type": "code",
   "execution_count": null,
   "id": "4bc8de7e",
   "metadata": {},
   "outputs": [],
   "source": [
    "sns.color_palette([(0.38627451, 0.63921569, 0.79803922)])"
   ]
  },
  {
   "cell_type": "code",
   "execution_count": null,
   "id": "777e58ef",
   "metadata": {},
   "outputs": [],
   "source": [
    "sns.color_palette([(0.99607843, 0.62352941, 0.21764706)])"
   ]
  },
  {
   "cell_type": "code",
   "execution_count": null,
   "id": "29ebe2df",
   "metadata": {},
   "outputs": [],
   "source": [
    "pal"
   ]
  },
  {
   "cell_type": "code",
   "execution_count": null,
   "id": "e012cfa1",
   "metadata": {},
   "outputs": [],
   "source": [
    "make_align_plot_together(almisalmeans, measure='hit', split=False)"
   ]
  },
  {
   "cell_type": "code",
   "execution_count": null,
   "id": "d16cb0fd",
   "metadata": {},
   "outputs": [],
   "source": [
    "make_align_plot_together(almisalmeans, measure='hit', split=False)"
   ]
  },
  {
   "cell_type": "code",
   "execution_count": null,
   "id": "be8eff65",
   "metadata": {},
   "outputs": [],
   "source": [
    "make_align_plot_together(almisalmeans, measure='hit', split=False)"
   ]
  },
  {
   "cell_type": "code",
   "execution_count": null,
   "id": "e0372ae2",
   "metadata": {},
   "outputs": [],
   "source": [
    "almisalmeans_avg = almisalmeans.groupby(['subject', 'expected', 'aligned']).mean().reset_index()"
   ]
  },
  {
   "cell_type": "code",
   "execution_count": null,
   "id": "e23f72da",
   "metadata": {},
   "outputs": [],
   "source": [
    "almisalmeans_avg.to_csv(\"almisalmeans.csv\")"
   ]
  },
  {
   "cell_type": "code",
   "execution_count": null,
   "id": "305d19bf",
   "metadata": {},
   "outputs": [],
   "source": [
    "len(almisalmeans_avg)"
   ]
  },
  {
   "cell_type": "code",
   "execution_count": null,
   "id": "d065041a",
   "metadata": {},
   "outputs": [],
   "source": [
    "pg.ttest(almisalmeans[(almisalmeans['aligned']==True)&(almisalmeans['expected']==1)]['hit'],\n",
    "         almisalmeans[(almisalmeans['aligned']==True)&(almisalmeans['expected']==0)]['hit'], paired=True)"
   ]
  },
  {
   "cell_type": "code",
   "execution_count": null,
   "id": "ffde83d7",
   "metadata": {},
   "outputs": [],
   "source": [
    "pg.ttest(almisalmeans[(almisalmeans['aligned']==False)&(almisalmeans['expected']==1)]['hit'],\n",
    "         almisalmeans[(almisalmeans['aligned']==False)&(almisalmeans['expected']==0)]['hit'], paired=True)"
   ]
  },
  {
   "cell_type": "code",
   "execution_count": null,
   "id": "d1d9655f",
   "metadata": {},
   "outputs": [],
   "source": [
    "alldiffs_acc.groupby(['aligned']).difference.mean()"
   ]
  },
  {
   "cell_type": "code",
   "execution_count": null,
   "id": "2c5fca09",
   "metadata": {},
   "outputs": [],
   "source": [
    "aov = pg.mixed_anova(data=alldiffs_acc, within='aligned', between='p_exp', dv='difference', subject='subject')\n",
    "pg.print_table(aov)"
   ]
  },
  {
   "cell_type": "code",
   "execution_count": null,
   "id": "175191d3",
   "metadata": {},
   "outputs": [],
   "source": [
    "alldiffs_acc.head()"
   ]
  },
  {
   "cell_type": "code",
   "execution_count": null,
   "id": "2cb174b1",
   "metadata": {},
   "outputs": [],
   "source": [
    "acc_pvals = []\n",
    "for pe in [0.75, 0.5, 0.25]:\n",
    "    for al in [True, False]:\n",
    "        print('p(exp) =', pe, 'aligned:', al)\n",
    "        t_table = pg.ttest(alldiffs_acc[(alldiffs_acc['p_exp']==pe)&(alldiffs_acc['aligned']==al)]['difference'], 0.0)\n",
    "        pg.print_table(t_table)\n",
    "    print('Contrast:')\n",
    "    t_table = pg.ttest(alldiffs_acc[(alldiffs_acc['p_exp']==pe)&(alldiffs_acc['aligned']==True)]['difference'],\n",
    "                      alldiffs_acc[(alldiffs_acc['p_exp']==pe)&(alldiffs_acc['aligned']==False)]['difference'],\n",
    "                      paired=True)\n",
    "    acc_pvals.append(t_table['p-val'][0])\n",
    "    pg.print_table(t_table)\n",
    "    this_n = t_table['dof'][0] + 1\n",
    "    bf = pg.bayesfactor_ttest(t_table['T'][0], this_n, paired=True)\n",
    "    print('BF01:', 1/float(bf), '\\n')\n",
    "    "
   ]
  },
  {
   "cell_type": "code",
   "execution_count": null,
   "id": "c07a9d77",
   "metadata": {},
   "outputs": [],
   "source": [
    "pg.ttest(alldiffs_acc[alldiffs_acc['aligned']==True]['difference'],\n",
    "         alldiffs_acc[alldiffs_acc['aligned']==False]['difference'],\n",
    "                      paired=True)"
   ]
  },
  {
   "cell_type": "code",
   "execution_count": null,
   "id": "725ff1bb",
   "metadata": {},
   "outputs": [],
   "source": [
    "1/bf"
   ]
  },
  {
   "cell_type": "code",
   "execution_count": null,
   "id": "e4de001f",
   "metadata": {},
   "outputs": [],
   "source": [
    "acc_pvals"
   ]
  },
  {
   "cell_type": "code",
   "execution_count": null,
   "id": "2a0fe982",
   "metadata": {},
   "outputs": [],
   "source": [
    "pg.multicomp(acc_pvals, method='bonf')"
   ]
  },
  {
   "cell_type": "code",
   "execution_count": null,
   "id": "c5a569f1-6b33-47d1-8680-de8d96989432",
   "metadata": {
    "pycharm": {
     "name": "#%%\n"
    }
   },
   "outputs": [],
   "source": [
    "alldiffs_crit = make_align_plot(almisalmeans, measure='criterion')"
   ]
  },
  {
   "cell_type": "code",
   "execution_count": null,
   "id": "12b3f501",
   "metadata": {},
   "outputs": [],
   "source": [
    "aov = pg.rm_anova(dv='hit', within=['aligned', 'expected'],\n",
    "                  subject='subject', data=almisalmeans[almisalmeans['p_exp']==0.25])\n",
    "pg.print_table(aov)"
   ]
  },
  {
   "cell_type": "code",
   "execution_count": null,
   "id": "c5066c8e-d446-4d8d-933c-05b016e685d0",
   "metadata": {
    "pycharm": {
     "name": "#%%\n"
    }
   },
   "outputs": [],
   "source": [
    "aov = pg.mixed_anova(dv='difference', within='aligned', between='p_exp', \n",
    "                  subject='subject',\n",
    "                  data=alldiffs_acc)\n",
    "pg.print_table(aov)"
   ]
  },
  {
   "cell_type": "code",
   "execution_count": null,
   "id": "1ef9c04b-60b2-490a-818d-68ebc50c92cb",
   "metadata": {
    "pycharm": {
     "name": "#%%\n"
    }
   },
   "outputs": [],
   "source": [
    "aov = pg.mixed_anova(dv='difference', within='aligned', between='p_exp', \n",
    "                  subject='subject',\n",
    "                  data=alldiffs_crit)\n",
    "pg.print_table(aov)"
   ]
  },
  {
   "cell_type": "code",
   "execution_count": null,
   "id": "8545be93-30b4-49e7-bc11-1946de9a4ad6",
   "metadata": {
    "pycharm": {
     "name": "#%%\n"
    }
   },
   "outputs": [],
   "source": [
    "diffs_pvals = []"
   ]
  },
  {
   "cell_type": "code",
   "execution_count": null,
   "id": "a0c5404c-e59f-4fcb-8b8c-180199222754",
   "metadata": {
    "pycharm": {
     "name": "#%%\n"
    }
   },
   "outputs": [],
   "source": [
    "stats = pg.ttest(alldiffs_dpr[(alldiffs_dpr['p_exp']==0.75)&(alldiffs_dpr['aligned']==True)].difference,\n",
    "         alldiffs_dpr[(alldiffs_dpr['p_exp']==0.75)&(alldiffs_dpr['aligned']==False)].difference, paired=True)\n",
    "diffs_pvals.append(stats['p-val'][0])\n",
    "stats"
   ]
  },
  {
   "cell_type": "code",
   "execution_count": null,
   "id": "370f73e7-17e6-4a19-936c-328ef747d7a8",
   "metadata": {
    "pycharm": {
     "name": "#%%\n"
    }
   },
   "outputs": [],
   "source": [
    "stats = pg.ttest(alldiffs_dpr[(alldiffs_dpr['p_exp']==0.5)&(alldiffs_dpr['aligned']==True)].difference,\n",
    "                 alldiffs_dpr[(alldiffs_dpr['p_exp']==0.5)&(alldiffs_dpr['aligned']==False)].difference, paired=True)\n",
    "diffs_pvals.append(stats['p-val'][0])\n",
    "stats"
   ]
  },
  {
   "cell_type": "code",
   "execution_count": null,
   "id": "1ed04924-4894-42f6-aff9-851275625bf8",
   "metadata": {
    "pycharm": {
     "name": "#%%\n"
    }
   },
   "outputs": [],
   "source": [
    "stats = pg.ttest(alldiffs_dpr[(alldiffs_dpr['p_exp']==0.25)&(alldiffs_dpr['aligned']==True)].difference,\n",
    "                 alldiffs_dpr[(alldiffs_dpr['p_exp']==0.25)&(alldiffs_dpr['aligned']==False)].difference, paired=True)\n",
    "diffs_pvals.append(stats['p-val'][0])\n",
    "stats"
   ]
  },
  {
   "cell_type": "code",
   "execution_count": null,
   "id": "1d08795e-c9b3-4a73-91b1-4a536646503a",
   "metadata": {
    "pycharm": {
     "name": "#%%\n"
    }
   },
   "outputs": [],
   "source": [
    "pg.multicomp(diffs_pvals, method='holm')"
   ]
  },
  {
   "cell_type": "code",
   "execution_count": null,
   "id": "59b473fa-f37b-4f63-bbbd-7021323243c3",
   "metadata": {
    "pycharm": {
     "name": "#%%\n"
    }
   },
   "outputs": [],
   "source": [
    "diffs_pvals = []"
   ]
  },
  {
   "cell_type": "code",
   "execution_count": null,
   "id": "ecd7800e-7334-4e6d-8786-209b7cb21383",
   "metadata": {
    "pycharm": {
     "name": "#%%\n"
    }
   },
   "outputs": [],
   "source": [
    "stats = pg.ttest(alldiffs_crit[(alldiffs_crit['p_exp']==0.75)&(alldiffs_crit['aligned']==True)].difference,\n",
    "         alldiffs_crit[(alldiffs_crit['p_exp']==0.75)&(alldiffs_crit['aligned']==False)].difference, paired=True)\n",
    "diffs_pvals.append(stats['p-val'][0])\n",
    "stats"
   ]
  },
  {
   "cell_type": "code",
   "execution_count": null,
   "id": "89c4aa97-67cd-4948-a0a3-61037b0919c2",
   "metadata": {
    "pycharm": {
     "name": "#%%\n"
    }
   },
   "outputs": [],
   "source": [
    "stats = pg.ttest(alldiffs_crit[(alldiffs_crit['p_exp']==0.5)&(alldiffs_crit['aligned']==True)].difference,\n",
    "                 alldiffs_crit[(alldiffs_crit['p_exp']==0.5)&(alldiffs_crit['aligned']==False)].difference, paired=True)\n",
    "diffs_pvals.append(stats['p-val'][0])\n",
    "stats"
   ]
  },
  {
   "cell_type": "code",
   "execution_count": null,
   "id": "551ab87e-c8a0-437a-be57-f6dd38d03e59",
   "metadata": {
    "pycharm": {
     "name": "#%%\n"
    }
   },
   "outputs": [],
   "source": [
    "stats = pg.ttest(alldiffs_crit[(alldiffs_crit['p_exp']==0.25)&(alldiffs_crit['aligned']==True)].difference,\n",
    "                 alldiffs_crit[(alldiffs_crit['p_exp']==0.25)&(alldiffs_crit['aligned']==False)].difference, paired=True)\n",
    "diffs_pvals.append(stats['p-val'][0])\n",
    "stats"
   ]
  },
  {
   "cell_type": "code",
   "execution_count": null,
   "id": "2fcbe346-108d-48fc-bf79-2d91d9e7f26a",
   "metadata": {
    "pycharm": {
     "name": "#%%\n"
    }
   },
   "outputs": [],
   "source": [
    "pg.multicomp(diffs_pvals, method='bonf')"
   ]
  },
  {
   "cell_type": "markdown",
   "id": "8ffe7111-cbd5-4365-a8fa-fed98f1e5c24",
   "metadata": {
    "pycharm": {
     "name": "#%% md\n"
    }
   },
   "source": [
    "## Aligned vs. Misaligned - Exp. 1"
   ]
  },
  {
   "cell_type": "code",
   "execution_count": null,
   "id": "60a3ddbd-e726-4f8c-a887-527a76c51976",
   "metadata": {
    "pycharm": {
     "name": "#%%\n"
    }
   },
   "outputs": [],
   "source": [
    "pvals_exp1 = []"
   ]
  },
  {
   "cell_type": "code",
   "execution_count": null,
   "id": "35e2e58f-e43e-4cc5-9c44-9d1c36702a3d",
   "metadata": {
    "pycharm": {
     "name": "#%%\n"
    }
   },
   "outputs": [],
   "source": [
    "stats = pg.ttest(almisalmeans[(almisalmeans['p_exp']==0.75)&(almisalmeans['aligned']==True)&(almisalmeans['expected']==1)].dprime,\n",
    "                 almisalmeans[(almisalmeans['p_exp']==0.75)&(almisalmeans['aligned']==True)&(almisalmeans['expected']==0)].dprime, paired=True)\n",
    "pvals_exp1.append(stats['p-val'][0])\n",
    "stats"
   ]
  },
  {
   "cell_type": "code",
   "execution_count": null,
   "id": "3df7cdaf-f629-42dd-a3f5-4efa86bfa3ab",
   "metadata": {
    "pycharm": {
     "name": "#%%\n"
    }
   },
   "outputs": [],
   "source": [
    "stats = pg.ttest(almisalmeans[(almisalmeans['p_exp']==0.75)&(almisalmeans['aligned']==False)&(almisalmeans['expected']==1)].dprime,\n",
    "                 almisalmeans[(almisalmeans['p_exp']==0.75)&(almisalmeans['aligned']==False)&(almisalmeans['expected']==0)].dprime, paired=True)\n",
    "pvals_exp1.append(stats['p-val'][0])\n",
    "stats"
   ]
  },
  {
   "cell_type": "code",
   "execution_count": null,
   "id": "7a0aee82-2e2f-4b96-a684-98f61f9c145a",
   "metadata": {
    "pycharm": {
     "name": "#%%\n"
    }
   },
   "outputs": [],
   "source": [
    "stats = pg.ttest(almisalmeans[(almisalmeans['p_exp']==0.75)&(almisalmeans['aligned']==True)&(almisalmeans['expected']==1)].criterion,\n",
    "                 almisalmeans[(almisalmeans['p_exp']==0.75)&(almisalmeans['aligned']==True)&(almisalmeans['expected']==0)].criterion, paired=True)\n",
    "pvals_exp1.append(stats['p-val'][0])\n",
    "stats"
   ]
  },
  {
   "cell_type": "code",
   "execution_count": null,
   "id": "8afba3dc-3af5-40b2-ac98-d10bab5fba11",
   "metadata": {
    "pycharm": {
     "name": "#%%\n"
    }
   },
   "outputs": [],
   "source": [
    "pvals_exp1"
   ]
  },
  {
   "cell_type": "code",
   "execution_count": null,
   "id": "edfdfe4d-72a5-43ba-9990-816f841af65e",
   "metadata": {
    "pycharm": {
     "name": "#%%\n"
    }
   },
   "outputs": [],
   "source": [
    "pg.ttest(almisalmeans[(almisalmeans['p_exp']==0.75)&(almisalmeans['aligned']==False)&(almisalmeans['expected']==1)].criterion,\n",
    "         almisalmeans[(almisalmeans['p_exp']==0.75)&(almisalmeans['aligned']==False)&(almisalmeans['expected']==0)].criterion, paired=True)"
   ]
  },
  {
   "cell_type": "code",
   "execution_count": null,
   "id": "aa3ade27-3a97-483d-974b-2a558e97206a",
   "metadata": {
    "pycharm": {
     "name": "#%%\n"
    }
   },
   "outputs": [],
   "source": [
    "aov = pg.rm_anova(dv='dprime', within=['expected', 'aligned'], \n",
    "                  subject='subject',\n",
    "                  data=almisalmeans[almisalmeans['p_exp']==0.75])\n",
    "pg.print_table(aov)"
   ]
  },
  {
   "cell_type": "code",
   "execution_count": null,
   "id": "5e833a96-ebaf-4fb2-afb6-2a9f96ebdad4",
   "metadata": {
    "pycharm": {
     "name": "#%%\n"
    }
   },
   "outputs": [],
   "source": [
    "aov = pg.rm_anova(dv='criterion', within=['expected', 'aligned'], \n",
    "                  subject='subject',\n",
    "                  data=almisalmeans[almisalmeans['p_exp']==0.75])\n",
    "pg.print_table(aov)"
   ]
  },
  {
   "cell_type": "markdown",
   "id": "03ff8a5c-f0f9-4235-b459-9fafc2c5372a",
   "metadata": {
    "pycharm": {
     "name": "#%% md\n"
    }
   },
   "source": [
    "## Aligned vs. Misaligned - Exp. 2"
   ]
  },
  {
   "cell_type": "code",
   "execution_count": null,
   "id": "d5544780-0738-4f9d-8d5f-11cebbe9f9b7",
   "metadata": {
    "pycharm": {
     "name": "#%%\n"
    }
   },
   "outputs": [],
   "source": [
    "pg.ttest(almisalmeans[(almisalmeans['p_exp']==0.5)&(almisalmeans['aligned']==True)&(almisalmeans['expected']==1)].dprime,\n",
    "         almisalmeans[(almisalmeans['p_exp']==0.5)&(almisalmeans['aligned']==True)&(almisalmeans['expected']==0)].dprime, paired=True)"
   ]
  },
  {
   "cell_type": "code",
   "execution_count": null,
   "id": "a935e2c0-d5a0-4e1a-991a-2315e594f998",
   "metadata": {
    "pycharm": {
     "name": "#%%\n"
    }
   },
   "outputs": [],
   "source": [
    "pg.ttest(almisalmeans[(almisalmeans['p_exp']==0.5)&(almisalmeans['aligned']==False)&(almisalmeans['expected']==1)].dprime,\n",
    "         almisalmeans[(almisalmeans['p_exp']==0.5)&(almisalmeans['aligned']==False)&(almisalmeans['expected']==0)].dprime, paired=True)"
   ]
  },
  {
   "cell_type": "code",
   "execution_count": null,
   "id": "809cc9bb-968f-498f-b36e-0190769ed0d2",
   "metadata": {
    "pycharm": {
     "name": "#%%\n"
    }
   },
   "outputs": [],
   "source": [
    "pg.ttest(almisalmeans[(almisalmeans['p_exp']==0.5)&(almisalmeans['aligned']==True)&(almisalmeans['expected']==1)].criterion,\n",
    "         almisalmeans[(almisalmeans['p_exp']==0.5)&(almisalmeans['aligned']==True)&(almisalmeans['expected']==0)].criterion, paired=True)"
   ]
  },
  {
   "cell_type": "code",
   "execution_count": null,
   "id": "ea8d08a9-9989-4d02-975e-3022892221bf",
   "metadata": {
    "pycharm": {
     "name": "#%%\n"
    }
   },
   "outputs": [],
   "source": [
    "pg.ttest(almisalmeans[(almisalmeans['p_exp']==0.5)&(almisalmeans['aligned']==False)&(almisalmeans['expected']==1)].criterion,\n",
    "         almisalmeans[(almisalmeans['p_exp']==0.5)&(almisalmeans['aligned']==False)&(almisalmeans['expected']==0)].criterion, paired=True)"
   ]
  },
  {
   "cell_type": "code",
   "execution_count": null,
   "id": "bfcf6cce-2008-49e8-acb5-4b469a7ed8aa",
   "metadata": {
    "pycharm": {
     "name": "#%%\n"
    }
   },
   "outputs": [],
   "source": [
    "aov = pg.rm_anova(dv='dprime', within=['expected', 'aligned'], \n",
    "                  subject='subject',\n",
    "                  data=almisalmeans[almisalmeans['p_exp']==0.5])\n",
    "pg.print_table(aov)"
   ]
  },
  {
   "cell_type": "code",
   "execution_count": null,
   "id": "a230c4d8-2213-4883-902f-5e49f925e016",
   "metadata": {
    "pycharm": {
     "name": "#%%\n"
    }
   },
   "outputs": [],
   "source": [
    "aov = pg.rm_anova(dv='criterion', within=['expected', 'aligned'], \n",
    "                  subject='subject',\n",
    "                  data=almisalmeans[almisalmeans['p_exp']==0.5])\n",
    "pg.print_table(aov)"
   ]
  },
  {
   "cell_type": "code",
   "execution_count": null,
   "id": "ecce3fdc-0483-4300-90f3-7e6008d3279c",
   "metadata": {
    "pycharm": {
     "name": "#%%\n"
    }
   },
   "outputs": [],
   "source": [
    "aov['p-unc'][2]"
   ]
  },
  {
   "cell_type": "code",
   "execution_count": null,
   "id": "635e8c43-5c4b-458b-9911-3cc3a7f48321",
   "metadata": {
    "pycharm": {
     "name": "#%%\n"
    }
   },
   "outputs": [],
   "source": [
    "sns.barplot(x='aligned', y='criterion', hue='expected', \n",
    "             data=almisalmeans[almisalmeans['p_exp']==0.25], hue_order=[1, 0])"
   ]
  },
  {
   "cell_type": "code",
   "execution_count": null,
   "id": "e2354878-ccd6-4cdf-b1bb-61c4ed076747",
   "metadata": {
    "pycharm": {
     "name": "#%%\n"
    }
   },
   "outputs": [],
   "source": [
    "sns.barplot(x='aligned', y='dprime', hue='expected', \n",
    "             data=almisalmeans[almisalmeans['p_exp']==0.25], hue_order=[1, 0])"
   ]
  },
  {
   "cell_type": "markdown",
   "id": "2679b860-2093-4211-827b-e30d78cc170f",
   "metadata": {
    "pycharm": {
     "name": "#%% md\n"
    }
   },
   "source": [
    "### Across time"
   ]
  },
  {
   "cell_type": "code",
   "execution_count": null,
   "id": "71827a81-ba61-4fd5-99cb-0b82a88a3d8c",
   "metadata": {
    "pycharm": {
     "name": "#%%\n"
    }
   },
   "outputs": [],
   "source": [
    "rot_dprimetime = dprime_across_time(allsubjdata)"
   ]
  },
  {
   "cell_type": "code",
   "execution_count": null,
   "id": "799d8485-69b2-4a62-95c6-0591d1db931d",
   "metadata": {
    "pycharm": {
     "name": "#%%\n"
    }
   },
   "outputs": [],
   "source": [
    "fig, ax1 = plt.subplots()\n",
    "plot = sns.lineplot(x='winno', y='dprime', \n",
    "                    data=rot_dprimetime[(rot_dprimetime['p_exp']==0.75)&(rot_dprimetime['expected']==1)],\n",
    "                    color='red')\n",
    "plot.set(xticklabels=[])\n",
    "plot.set(xlabel=None)\n",
    "ax2 = ax1.twiny()\n",
    "plot = sns.lineplot(x='winno', y='dprime',\n",
    "                   data=rot_dprimetime[(rot_dprimetime['p_exp']==0.75)&(rot_dprimetime['expected']==0)],\n",
    "                   color='blue')\n",
    "plot.set(xticklabels=[])\n",
    "plot.set(xlabel=None)"
   ]
  },
  {
   "cell_type": "code",
   "execution_count": null,
   "id": "d70c52ec-82f1-4b07-936f-7e7ad085b195",
   "metadata": {
    "pycharm": {
     "name": "#%%\n"
    }
   },
   "outputs": [],
   "source": [
    "fig, ax1 = plt.subplots()\n",
    "plot = sns.lineplot(x='winno', y='criterion', \n",
    "                    data=rot_dprimetime[(rot_dprimetime['p_exp']==0.75)&(rot_dprimetime['expected']==1)],\n",
    "                    color='red')\n",
    "plot.set(xticklabels=[])\n",
    "plot.set(xlabel=None)\n",
    "ax2 = ax1.twiny()\n",
    "plot = sns.lineplot(x='winno', y='criterion',\n",
    "                   data=rot_dprimetime[(rot_dprimetime['p_exp']==0.75)&(rot_dprimetime['expected']==0)],\n",
    "                   color='blue')\n",
    "plot.set(xticklabels=[])\n",
    "plot.set(xlabel=None)"
   ]
  },
  {
   "cell_type": "code",
   "execution_count": null,
   "id": "02cbff98-8e94-44ea-ad22-3f58b32419f6",
   "metadata": {
    "pycharm": {
     "name": "#%%\n"
    }
   },
   "outputs": [],
   "source": [
    "fig, ax1 = plt.subplots()\n",
    "plot = sns.lineplot(x='winno', y='dprime', \n",
    "                    data=rot_dprimetime[(rot_dprimetime['p_exp']==0.5)&(rot_dprimetime['expected']==1)],\n",
    "                    color='red')\n",
    "plot.set(xticklabels=[])\n",
    "plot.set(xlabel=None)\n",
    "ax2 = ax1.twiny()\n",
    "plot = sns.lineplot(x='winno', y='dprime',\n",
    "                   data=rot_dprimetime[(rot_dprimetime['p_exp']==0.5)&(rot_dprimetime['expected']==0)],\n",
    "                   color='blue')\n",
    "plot.set(xticklabels=[])\n",
    "plot.set(xlabel=None)"
   ]
  },
  {
   "cell_type": "code",
   "execution_count": null,
   "id": "efd753e4-a268-462d-ad96-db688efd137c",
   "metadata": {
    "pycharm": {
     "name": "#%%\n"
    }
   },
   "outputs": [],
   "source": [
    "fig, ax1 = plt.subplots()\n",
    "plot = sns.lineplot(x='winno', y='criterion', \n",
    "                    data=rot_dprimetime[(rot_dprimetime['p_exp']==0.5)&(rot_dprimetime['expected']==1)],\n",
    "                    color='red')\n",
    "plot.set(xticklabels=[])\n",
    "plot.set(xlabel=None)\n",
    "ax2 = ax1.twiny()\n",
    "plot = sns.lineplot(x='winno', y='criterion',\n",
    "                   data=rot_dprimetime[(rot_dprimetime['p_exp']==0.5)&(rot_dprimetime['expected']==0)],\n",
    "                   color='blue')\n",
    "plot.set(xticklabels=[])\n",
    "plot.set(xlabel=None)"
   ]
  },
  {
   "cell_type": "code",
   "execution_count": null,
   "id": "7cdbd95e-e415-4ce1-8c1e-6c8f3d171052",
   "metadata": {
    "pycharm": {
     "name": "#%%\n"
    }
   },
   "outputs": [],
   "source": [
    "fig, ax1 = plt.subplots()\n",
    "plot = sns.lineplot(x='winno', y='dprime', \n",
    "                    data=rot_dprimetime[(rot_dprimetime['p_exp']==0.25)&(rot_dprimetime['expected']==1)],\n",
    "                    color='red')\n",
    "plot.set(xticklabels=[])\n",
    "plot.set(xlabel=None)\n",
    "ax2 = ax1.twiny()\n",
    "plot = sns.lineplot(x='winno', y='dprime',\n",
    "                   data=rot_dprimetime[(rot_dprimetime['p_exp']==0.25)&(rot_dprimetime['expected']==0)],\n",
    "                   color='blue')\n",
    "plot.set(xticklabels=[])\n",
    "plot.set(xlabel=None)"
   ]
  },
  {
   "cell_type": "code",
   "execution_count": null,
   "id": "1d5ed602-e8bb-4f80-82b4-9fac5daeb570",
   "metadata": {
    "pycharm": {
     "name": "#%%\n"
    }
   },
   "outputs": [],
   "source": [
    "fig, ax1 = plt.subplots()\n",
    "plot = sns.lineplot(x='winno', y='criterion', \n",
    "                    data=rot_dprimetime[(rot_dprimetime['p_exp']==0.25)&(rot_dprimetime['expected']==1)],\n",
    "                    color='red')\n",
    "plot.set(xticklabels=[])\n",
    "plot.set(xlabel=None)\n",
    "ax2 = ax1.twiny()\n",
    "plot = sns.lineplot(x='winno', y='criterion',\n",
    "                   data=rot_dprimetime[(rot_dprimetime['p_exp']==0.25)&(rot_dprimetime['expected']==0)],\n",
    "                   color='blue')\n",
    "plot.set(xticklabels=[])\n",
    "plot.set(xlabel=None)"
   ]
  },
  {
   "cell_type": "markdown",
   "id": "51d75c71-f85a-4dde-a6b1-80a37cba3aff",
   "metadata": {
    "pycharm": {
     "name": "#%% md\n"
    }
   },
   "source": [
    "## Sanity checks and survey"
   ]
  },
  {
   "cell_type": "code",
   "execution_count": 16,
   "id": "7ae51369-d6ca-4130-9555-b7e9acaaf123",
   "metadata": {
    "pycharm": {
     "name": "#%%\n"
    }
   },
   "outputs": [],
   "source": [
    "allsanchecks, allsurveys = get_sanchecks_and_surveys(allsubjdata)"
   ]
  },
  {
   "cell_type": "code",
   "execution_count": 19,
   "id": "84909e35",
   "metadata": {},
   "outputs": [],
   "source": [
    "allsurveys = allsurveys.drop(columns=['samediff', 'task', 'simpleseq', 'zoomseq', 'cond_practice'])\n",
    "allsanchecks = allsanchecks.drop(columns=['samediff', 'task', 'simpleseq', 'zoomseq', 'cond_practice'])"
   ]
  },
  {
   "cell_type": "code",
   "execution_count": 20,
   "id": "814e110a-abce-460f-8bc9-1554a18a4bf0",
   "metadata": {
    "pycharm": {
     "name": "#%%\n"
    }
   },
   "outputs": [
    {
     "data": {
      "text/html": [
       "<div>\n",
       "<style scoped>\n",
       "    .dataframe tbody tr th:only-of-type {\n",
       "        vertical-align: middle;\n",
       "    }\n",
       "\n",
       "    .dataframe tbody tr th {\n",
       "        vertical-align: top;\n",
       "    }\n",
       "\n",
       "    .dataframe thead th {\n",
       "        text-align: right;\n",
       "    }\n",
       "</style>\n",
       "<table border=\"1\" class=\"dataframe\">\n",
       "  <thead>\n",
       "    <tr style=\"text-align: right;\">\n",
       "      <th></th>\n",
       "      <th>sequence_attention</th>\n",
       "      <th>object_expect</th>\n",
       "      <th>percent_expected</th>\n",
       "      <th>comments</th>\n",
       "      <th>p_exp</th>\n",
       "      <th>subject</th>\n",
       "      <th>date</th>\n",
       "      <th>time</th>\n",
       "    </tr>\n",
       "  </thead>\n",
       "  <tbody>\n",
       "    <tr>\n",
       "      <th>2</th>\n",
       "      <td>4.0</td>\n",
       "      <td>3.0</td>\n",
       "      <td>65</td>\n",
       "      <td>I tried to unfocus my eyes a little as that se...</td>\n",
       "      <td>0.5</td>\n",
       "      <td>3</td>\n",
       "      <td>20210831</td>\n",
       "      <td>1630419047809</td>\n",
       "    </tr>\n",
       "    <tr>\n",
       "      <th>3</th>\n",
       "      <td>2.0</td>\n",
       "      <td>3.0</td>\n",
       "      <td>50</td>\n",
       "      <td>I honestly got confused originally. I thought ...</td>\n",
       "      <td>0.5</td>\n",
       "      <td>4</td>\n",
       "      <td>20210901</td>\n",
       "      <td>1630509449935</td>\n",
       "    </tr>\n",
       "    <tr>\n",
       "      <th>4</th>\n",
       "      <td>4.0</td>\n",
       "      <td>5.0</td>\n",
       "      <td>40</td>\n",
       "      <td>NaN</td>\n",
       "      <td>0.5</td>\n",
       "      <td>5</td>\n",
       "      <td>20210901</td>\n",
       "      <td>1630508551387</td>\n",
       "    </tr>\n",
       "    <tr>\n",
       "      <th>5</th>\n",
       "      <td>1.0</td>\n",
       "      <td>3.0</td>\n",
       "      <td>50</td>\n",
       "      <td>NaN</td>\n",
       "      <td>0.5</td>\n",
       "      <td>6</td>\n",
       "      <td>20210901</td>\n",
       "      <td>1630522365396</td>\n",
       "    </tr>\n",
       "    <tr>\n",
       "      <th>6</th>\n",
       "      <td>1.0</td>\n",
       "      <td>4.0</td>\n",
       "      <td>70</td>\n",
       "      <td>The experiment was too tiring and eye strainin...</td>\n",
       "      <td>0.5</td>\n",
       "      <td>7</td>\n",
       "      <td>20210902</td>\n",
       "      <td>1630569991648</td>\n",
       "    </tr>\n",
       "  </tbody>\n",
       "</table>\n",
       "</div>"
      ],
      "text/plain": [
       "   sequence_attention  object_expect  percent_expected  \\\n",
       "2                 4.0            3.0                65   \n",
       "3                 2.0            3.0                50   \n",
       "4                 4.0            5.0                40   \n",
       "5                 1.0            3.0                50   \n",
       "6                 1.0            4.0                70   \n",
       "\n",
       "                                            comments  p_exp  subject  \\\n",
       "2  I tried to unfocus my eyes a little as that se...    0.5        3   \n",
       "3  I honestly got confused originally. I thought ...    0.5        4   \n",
       "4                                                NaN    0.5        5   \n",
       "5                                                NaN    0.5        6   \n",
       "6  The experiment was too tiring and eye strainin...    0.5        7   \n",
       "\n",
       "       date           time  \n",
       "2  20210831  1630419047809  \n",
       "3  20210901  1630509449935  \n",
       "4  20210901  1630508551387  \n",
       "5  20210901  1630522365396  \n",
       "6  20210902  1630569991648  "
      ]
     },
     "execution_count": 20,
     "metadata": {},
     "output_type": "execute_result"
    }
   ],
   "source": [
    "allsurveys.head()"
   ]
  },
  {
   "cell_type": "code",
   "execution_count": 21,
   "id": "9b8af1a7",
   "metadata": {},
   "outputs": [
    {
     "data": {
      "text/plain": [
       "271"
      ]
     },
     "execution_count": 21,
     "metadata": {},
     "output_type": "execute_result"
    }
   ],
   "source": [
    "allsurveys.subject.nunique()"
   ]
  },
  {
   "cell_type": "code",
   "execution_count": 22,
   "id": "24e476c8",
   "metadata": {},
   "outputs": [],
   "source": [
    "allsurveys.to_csv('allsurveys_clean.csv')"
   ]
  },
  {
   "cell_type": "code",
   "execution_count": null,
   "id": "52b37b70",
   "metadata": {},
   "outputs": [],
   "source": [
    "allsanchecks.to_csv('allsanchecks_clean.csv')"
   ]
  },
  {
   "cell_type": "code",
   "execution_count": null,
   "id": "d7220f13-420d-4e33-bbb2-9e60a0c56aba",
   "metadata": {
    "pycharm": {
     "name": "#%%\n"
    }
   },
   "outputs": [],
   "source": [
    "allsanchecks.head()"
   ]
  },
  {
   "cell_type": "code",
   "execution_count": 18,
   "id": "88733b06",
   "metadata": {},
   "outputs": [
    {
     "name": "stdout",
     "output_type": "stream",
     "text": [
      "sequence_attention\n",
      "object_expect\n",
      "percent_expected\n",
      "comments\n",
      "samediff\n",
      "task\n",
      "simpleseq\n",
      "zoomseq\n",
      "p_exp\n",
      "cond_practice\n",
      "subject\n",
      "date\n",
      "time\n"
     ]
    }
   ],
   "source": [
    "for col in allsurveys.columns:\n",
    "    print(col)"
   ]
  },
  {
   "cell_type": "code",
   "execution_count": null,
   "id": "0f250cc0-bee0-4932-8a4f-3955502f52ec",
   "metadata": {
    "pycharm": {
     "name": "#%%\n"
    }
   },
   "outputs": [],
   "source": [
    "allsurveys.sort_values(['p_exp'],ascending=False).groupby(['p_exp'])[['sequence_attention']].agg(['mean', 'sem'])"
   ]
  },
  {
   "cell_type": "code",
   "execution_count": null,
   "id": "ce64b545-686a-4ed9-963e-65efb7ec3161",
   "metadata": {
    "pycharm": {
     "name": "#%%\n"
    }
   },
   "outputs": [],
   "source": [
    "allsurveys.sort_values(['p_exp'],ascending=False).groupby(['p_exp'])[['object_expect']].agg(['mean', 'sem'])"
   ]
  },
  {
   "cell_type": "code",
   "execution_count": null,
   "id": "275d0600-0f8c-4332-a10a-84f9b166a7a0",
   "metadata": {
    "pycharm": {
     "name": "#%%\n"
    }
   },
   "outputs": [],
   "source": [
    "allsurveys.sort_values(['p_exp'],ascending=False).groupby(['p_exp'])[['percent_expected']].agg(['mean', 'sem'])"
   ]
  },
  {
   "cell_type": "code",
   "execution_count": null,
   "id": "50e03cd8-fea7-435e-8cc9-6334084d7b96",
   "metadata": {
    "pycharm": {
     "name": "#%%\n"
    }
   },
   "outputs": [],
   "source": [
    "aov = pg.welch_anova(dv='sequence_attention', between='p_exp', data=allsurveys)\n",
    "\n",
    "pg.print_table(aov)"
   ]
  },
  {
   "cell_type": "code",
   "execution_count": null,
   "id": "761ed4fa-374b-405b-aa61-e799b0bd2e5d",
   "metadata": {
    "pycharm": {
     "name": "#%%\n"
    }
   },
   "outputs": [],
   "source": [
    "aov = pg.welch_anova(dv='object_expect', between='p_exp', data=allsurveys)\n",
    "\n",
    "pg.print_table(aov)"
   ]
  },
  {
   "cell_type": "code",
   "execution_count": null,
   "id": "823a98cc-cd64-4ca1-96e3-613f678cae87",
   "metadata": {
    "pycharm": {
     "name": "#%%\n"
    }
   },
   "outputs": [],
   "source": [
    "aov = pg.welch_anova(dv='percent_expected', between='p_exp', data=allsurveys)\n",
    "\n",
    "pg.print_table(aov)"
   ]
  },
  {
   "cell_type": "code",
   "execution_count": null,
   "id": "5b187a94",
   "metadata": {},
   "outputs": [],
   "source": [
    "allmeans.head()"
   ]
  },
  {
   "cell_type": "code",
   "execution_count": null,
   "id": "55b03130-749e-4f41-a472-1d08bac5248a",
   "metadata": {
    "pycharm": {
     "name": "#%%\n"
    }
   },
   "outputs": [],
   "source": [
    "print('==================')\n",
    "print('Overall')\n",
    "print('------------------')\n",
    "accdiffs = allmeans[allmeans['expected']==1].hit.values - \\\n",
    "           allmeans[allmeans['expected']==0].hit.values\n",
    "critdiffs = allmeans[allmeans['expected']==1].criterion.values - \\\n",
    "            allmeans[allmeans['expected']==0].criterion.values\n",
    "dprdiffs = allmeans[allmeans['expected']==1].dprime.values - \\\n",
    "           allmeans[allmeans['expected']==0].dprime.values\n",
    "print('Accuracy-sequence attention correlation:')\n",
    "stats = pg.corr(allsurveys.sequence_attention, accdiffs, method='pearson')\n",
    "print('r =', stats['r'][0], '- p =', stats['p-val'][0], '- BF01 =', 1/float(stats['BF10'][0]), '\\n')\n",
    "# print('Criterion-sequence attention correlation:')\n",
    "# stats = pg.corr(allsurveys.sequence_attention, critdiffs, method='pearson')\n",
    "# print('r =', stats['r'][0], '- p =', stats['p-val'][0], '- BF01 =', 1/float(stats['BF10'][0]), '\\n')\n",
    "# print('DPrime-sequence attention correlation:')\n",
    "# stats = pg.corr(allsurveys.sequence_attention, dprdiffs, method='pearson')\n",
    "# print('r =', stats['r'][0], '- p =', stats['p-val'][0], '- BF01 =', 1/float(stats['BF10'][0]), '\\n')\n",
    "#tau, p = kendalltau(allsurveys[allsurveys['p_exp']==pe].sequence_attention, critdiffs, nan_policy='omit')\n",
    "#print('tau =', tau, '- p =', p, '\\n')\n",
    "print('Accuracy-object prediction correlation:')\n",
    "stats = pg.corr(allsurveys.object_expect, accdiffs, method='pearson')\n",
    "print('r =', stats['r'][0], '- p =', stats['p-val'][0], '- BF01 =', 1/float(stats['BF10'][0]), '\\n')\n",
    "# print('Criterion-object prediction correlation:')\n",
    "# stats = pg.corr(allsurveys.object_expect, critdiffs, method='pearson')\n",
    "# print('r =', stats['r'][0], '- p =', stats['p-val'][0], '- BF01 =', 1/float(stats['BF10'][0]), '\\n')\n",
    "# print('DPrime-object prediction correlation:')\n",
    "# stats = pg.corr(allsurveys.object_expect, dprdiffs, method='pearson')\n",
    "# print('r =', stats['r'][0], '- p =', stats['p-val'][0], '- BF01 =', 1/float(stats['BF10'][0]), '\\n')\n",
    "#tau, p = kendalltau(allsurveys[allsurveys['p_exp']==pe].object_expect, critdiffs, nan_policy='omit')\n",
    "#print('tau =', tau, '- p =', p, '\\n')\n",
    "print('Accuracy-probability estimate correlation:')\n",
    "stats = pg.corr(allsurveys.percent_expected, accdiffs, method='pearson')\n",
    "print('r =', stats['r'][0], '- p =', stats['p-val'][0], '- BF01 =', 1/float(stats['BF10'][0]), '\\n')\n",
    "# print('Criterion-probability estimate correlation:')\n",
    "# stats = pg.corr(allsurveys.percent_expected, critdiffs, method='pearson')\n",
    "# print('r =', stats['r'][0], '- p =', stats['p-val'][0], '- BF01 =', 1/float(stats['BF10'][0]), '\\n')\n",
    "# print('DPrime-probability estimate correlation:')\n",
    "# stats = pg.corr(allsurveys.percent_expected, dprdiffs, method='pearson')\n",
    "# print('r =', stats['r'][0], '- p =', stats['p-val'][0], '- BF01 =', 1/float(stats['BF10'][0]), '\\n')\n",
    "\n",
    "for pe in [0.75, 0.5, 0.25]:\n",
    "    print('==================')\n",
    "    print('P(Exp) =', pe)\n",
    "    print('------------------')\n",
    "    thispexp = allmeans[allmeans['p_exp']==pe]\n",
    "    critdiffs = thispexp[thispexp['expected']==1].criterion.values - \\\n",
    "                thispexp[thispexp['expected']==0].criterion.values\n",
    "    dprdiffs = thispexp[thispexp['expected']==1].dprime.values - \\\n",
    "               thispexp[thispexp['expected']==0].dprime.values\n",
    "    accdiffs = thispexp[thispexp['expected']==1].hit.values - \\\n",
    "               thispexp[thispexp['expected']==0].hit.values\n",
    "    print('Accuracy-sequence attention correlation:')\n",
    "    stats = pg.corr(allsurveys[allsurveys['p_exp']==pe].sequence_attention, accdiffs, method='pearson')\n",
    "    print('r =', stats['r'][0], '- p =', stats['p-val'][0], '- BF01 =', 1/float(stats['BF10'][0]), '\\n')\n",
    "    # print('Criterion-sequence attention correlation:')\n",
    "    # stats = pg.corr(allsurveys[allsurveys['p_exp']==pe].sequence_attention, critdiffs, method='pearson')\n",
    "    # print('r =', stats['r'][0], '- p =', stats['p-val'][0], '- BF01 =', 1/float(stats['BF10'][0]), '\\n')\n",
    "    # print('DPrime-sequence attention correlation:')\n",
    "    # stats = pg.corr(allsurveys[allsurveys['p_exp']==pe].sequence_attention, dprdiffs, method='pearson')\n",
    "    # print('r =', stats['r'][0], '- p =', stats['p-val'][0], '- BF01 =', 1/float(stats['BF10'][0]), '\\n')\n",
    "    #tau, p = kendalltau(allsurveys[allsurveys['p_exp']==pe].sequence_attention, critdiffs, nan_policy='omit')\n",
    "    #print('tau =', tau, '- p =', p, '\\n')\n",
    "    print('-------------------------------')\n",
    "    print('Accuracy-object prediction correlation:')\n",
    "    stats = pg.corr(allsurveys[allsurveys['p_exp']==pe].object_expect, accdiffs, method='pearson')\n",
    "    print('r =', stats['r'][0], '- p =', stats['p-val'][0], '- BF01 =', 1/float(stats['BF10'][0]), '\\n')\n",
    "    # print('Criterion-object prediction correlation:')\n",
    "    # stats = pg.corr(allsurveys[allsurveys['p_exp']==pe].object_expect, critdiffs, method='pearson')\n",
    "    # print('r =', stats['r'][0], '- p =', stats['p-val'][0], '- BF01 =', 1/float(stats['BF10'][0]), '\\n')\n",
    "    # print('DPrime-object prediction correlation:')\n",
    "    # stats = pg.corr(allsurveys[allsurveys['p_exp']==pe].object_expect, dprdiffs, method='pearson')\n",
    "    # print('r =', stats['r'][0], '- p =', stats['p-val'][0], '- BF01 =', 1/float(stats['BF10'][0]), '\\n')\n",
    "    #tau, p = kendalltau(allsurveys[allsurveys['p_exp']==pe].object_expect, critdiffs, nan_policy='omit')\n",
    "    #print('tau =', tau, '- p =', p, '\\n')\n",
    "    print('-------------------------------')\n",
    "    print('Accuracy-probability estimate correlation:')\n",
    "    stats = pg.corr(allsurveys[allsurveys['p_exp']==pe].percent_expected, accdiffs, method='pearson')\n",
    "    print('r =', stats['r'][0], '- p =', stats['p-val'][0], '- BF01 =', 1/float(stats['BF10'][0]), '\\n')\n",
    "    # print('Criterion-probability estimate correlation:')\n",
    "    # stats = pg.corr(allsurveys[allsurveys['p_exp']==pe].percent_expected, critdiffs, method='pearson')\n",
    "    # print('r =', stats['r'][0], '- p =', stats['p-val'][0], '- BF01 =', 1/float(stats['BF10'][0]), '\\n')\n",
    "    # print('DPrime-probability estimate correlation:')\n",
    "    # stats = pg.corr(allsurveys[allsurveys['p_exp']==pe].percent_expected, dprdiffs, method='pearson')\n",
    "    # print('r =', stats['r'][0], '- p =', stats['p-val'][0], '- BF01 =', 1/float(stats['BF10'][0]), '\\n')\n",
    "    #tau, p = kendalltau(allsurveys[allsurveys['p_exp']==pe].percent_expected, critdiffs, nan_policy='omit')\n",
    "    #print('tau =', tau, '- p =', p, '\\n')\n",
    "    \n",
    "    #print('DPrime-sequence attention correlation:')\n",
    "    #tau, p = kendalltau(allsurveys[allsurveys['p_exp']==pe].sequence_attention, dprdiffs, nan_policy='omit')\n",
    "    #print('tau =', tau, 'p =', p, '\\n')\n",
    "    #print('DPrime-object prediction correlation:')\n",
    "    #tau, p = kendalltau(allsurveys[allsurveys['p_exp']==pe].object_expect, dprdiffs, nan_policy='omit')\n",
    "    #print('tau =', tau, 'p =', p, '\\n')\n",
    "    #print('DPrime-probability estimate correlation:')\n",
    "    #tau, p = kendalltau(allsurveys[allsurveys['p_exp']==pe].percent_expected, dprdiffs, nan_policy='omit')\n",
    "    #print('tau =', tau, 'p =', p, '\\n')"
   ]
  },
  {
   "cell_type": "markdown",
   "id": "ad766629-13db-4aa7-9457-2d798a6cbc13",
   "metadata": {
    "pycharm": {
     "name": "#%% md\n"
    }
   },
   "source": [
    "## Participant demographics (rotation)"
   ]
  },
  {
   "cell_type": "code",
   "execution_count": null,
   "id": "7200b864-9118-4c23-a122-75014e6249e6",
   "metadata": {
    "pycharm": {
     "name": "#%%\n"
    }
   },
   "outputs": [],
   "source": [
    "# Participant demographics\n",
    "alldemodata = pd.DataFrame()\n",
    "subjdemo = glob('./prolific_export_*.csv')\n",
    "renamedict = {'Participant id': 'participant_id', 'Age': 'age', 'Sex': 'sex'}\n",
    "for sd in subjdemo:\n",
    "    thisdemodata = pd.read_csv(sd, engine='python', error_bad_lines=False)\n",
    "    thisdemodata = thisdemodata.rename(columns=renamedict)\n",
    "    thisdemodata = thisdemodata[list(renamedict.values())]\n",
    "    alldemodata = pd.concat([alldemodata, thisdemodata], ignore_index=True)\n",
    "\n",
    "incl_ids = [i for i in allsanchecks.prolific_id]\n",
    "alldemodata = alldemodata[alldemodata['participant_id'].isin(incl_ids)]    \n",
    "\n",
    "demo_probs = []\n",
    "for thisid in alldemodata.participant_id:\n",
    "    thissub = allsanchecks[allsanchecks['prolific_id']==thisid]\n",
    "    demo_probs.append(thissub.p_exp.values[0])\n",
    "alldemodata['p_exp'] = demo_probs"
   ]
  },
  {
   "cell_type": "code",
   "execution_count": null,
   "id": "1cc1d1fe-4eb0-4477-85d6-ee46bde39237",
   "metadata": {
    "pycharm": {
     "name": "#%%\n"
    }
   },
   "outputs": [],
   "source": [
    "alldemodata[alldemodata['p_exp']==0.75].age.mean()"
   ]
  },
  {
   "cell_type": "code",
   "execution_count": null,
   "id": "d5d39a4b-bf63-4662-b3f1-2fbcb9ba7787",
   "metadata": {
    "pycharm": {
     "name": "#%%\n"
    }
   },
   "outputs": [],
   "source": [
    "alldemodata[alldemodata['p_exp']==0.25].sex.value_counts()"
   ]
  },
  {
   "cell_type": "code",
   "execution_count": null,
   "id": "525487cd-c125-4961-b9ef-fe8865f7b47b",
   "metadata": {
    "pycharm": {
     "name": "#%%\n"
    }
   },
   "outputs": [],
   "source": [
    "thisdemodata.head()"
   ]
  },
  {
   "cell_type": "code",
   "execution_count": null,
   "id": "5ef1ff55-435c-4de1-8f74-df47d59d69e4",
   "metadata": {
    "pycharm": {
     "name": "#%%\n"
    }
   },
   "outputs": [],
   "source": [
    "renamedict = {'Participant id': 'participant_id', 'Age': 'age', 'Sex': 'Sex'}"
   ]
  },
  {
   "cell_type": "code",
   "execution_count": null,
   "id": "240c3fa1-82dc-45c1-b2f4-16df19eedfe1",
   "metadata": {
    "pycharm": {
     "name": "#%%\n"
    }
   },
   "outputs": [],
   "source": [
    "alldemodata = alldemodata[list(renamedict.values())]"
   ]
  },
  {
   "cell_type": "code",
   "execution_count": null,
   "id": "dd9cf96b-45be-4dc0-9ed6-1f15c0698005",
   "metadata": {
    "pycharm": {
     "name": "#%%\n"
    }
   },
   "outputs": [],
   "source": [
    "list(renamedict.values())"
   ]
  },
  {
   "cell_type": "code",
   "execution_count": null,
   "id": "70d236e1-ec39-429d-953f-f54e554351f8",
   "metadata": {
    "pycharm": {
     "name": "#%%\n"
    }
   },
   "outputs": [],
   "source": [
    "alldemodata.head()"
   ]
  },
  {
   "cell_type": "code",
   "execution_count": null,
   "id": "5329d76e-d9be-4c09-8e9d-38127a8a68ad",
   "metadata": {
    "pycharm": {
     "name": "#%%\n"
    }
   },
   "outputs": [],
   "source": [
    "allsanchecks.head()"
   ]
  },
  {
   "cell_type": "code",
   "execution_count": null,
   "id": "879100ea-c28b-4adc-85ea-b4de716dd32f",
   "metadata": {
    "pycharm": {
     "name": "#%%\n"
    }
   },
   "outputs": [],
   "source": [
    "len(incl_ids)"
   ]
  },
  {
   "cell_type": "code",
   "execution_count": null,
   "id": "d8d0a0ae-0862-4615-9701-eab61e3c8c1a",
   "metadata": {
    "pycharm": {
     "name": "#%%\n"
    }
   },
   "outputs": [],
   "source": [
    "incl_ids[0]"
   ]
  },
  {
   "cell_type": "code",
   "execution_count": null,
   "id": "aa2ef5ba-8984-43b7-9936-618b289ee661",
   "metadata": {
    "pycharm": {
     "name": "#%%\n"
    }
   },
   "outputs": [],
   "source": [
    "alldemodata['Participant id'][100]"
   ]
  },
  {
   "cell_type": "code",
   "execution_count": null,
   "id": "4f877115-b00b-47cc-97c9-f46b70605012",
   "metadata": {
    "pycharm": {
     "name": "#%%\n"
    }
   },
   "outputs": [],
   "source": [
    "'56cb572b73cd5b0006f79acd' in incl_ids"
   ]
  },
  {
   "cell_type": "code",
   "execution_count": null,
   "id": "d2ec17a5-560d-443f-bd0c-bdb6b8823f66",
   "metadata": {
    "pycharm": {
     "name": "#%%\n"
    }
   },
   "outputs": [],
   "source": [
    "incl_demogr = alldemodata[alldemodata['Participant id'].isin(incl_ids)]"
   ]
  },
  {
   "cell_type": "code",
   "execution_count": null,
   "id": "6d148e33-9067-42ca-b624-a145d2546ef3",
   "metadata": {
    "pycharm": {
     "name": "#%%\n"
    }
   },
   "outputs": [],
   "source": [
    "probs = []\n",
    "for demrow in incl_demogr.iterrows():\n",
    "    print(demrow[1]['Participant id'])\n",
    "    #thisid = demrow['Participant id'][0]\n",
    "    #print(thisid)\n",
    "    #probs.append(allsanchecks[allsanchecks])"
   ]
  },
  {
   "cell_type": "code",
   "execution_count": null,
   "id": "ce06ba48-532d-49f2-a7f9-08a1c84500fd",
   "metadata": {
    "pycharm": {
     "name": "#%%\n"
    }
   },
   "outputs": [],
   "source": [
    "incl_demogr.status.unique() # should be all 'APPROVED'"
   ]
  },
  {
   "cell_type": "code",
   "execution_count": null,
   "id": "cb790b39-44bd-4eaf-9cbd-58303d156210",
   "metadata": {
    "pycharm": {
     "name": "#%%\n"
    }
   },
   "outputs": [],
   "source": [
    "incl_demogr['Sex'].value_counts()"
   ]
  },
  {
   "cell_type": "code",
   "execution_count": null,
   "id": "d30990a4-593b-42d2-b11f-a2d13e07c0fb",
   "metadata": {
    "pycharm": {
     "name": "#%%\n"
    }
   },
   "outputs": [],
   "source": [
    "incl_demogr['age'].mean()"
   ]
  },
  {
   "cell_type": "code",
   "execution_count": null,
   "id": "70ea63cf-9ae9-43ed-baca-f95d3500bfa0",
   "metadata": {
    "pycharm": {
     "name": "#%%\n"
    }
   },
   "outputs": [],
   "source": [
    "incl_demogr['age'].std()"
   ]
  },
  {
   "cell_type": "markdown",
   "id": "f2bdc9ba-11ad-45ab-82a9-75898aa9583a",
   "metadata": {
    "pycharm": {
     "name": "#%% md\n"
    }
   },
   "source": [
    "# Zoom experiment"
   ]
  },
  {
   "cell_type": "code",
   "execution_count": null,
   "id": "a5d818c5-21a1-4435-948b-666745717f10",
   "metadata": {
    "pycharm": {
     "name": "#%%\n"
    }
   },
   "outputs": [],
   "source": [
    "zoomdata = get_zoom_exp_data()"
   ]
  },
  {
   "cell_type": "code",
   "execution_count": null,
   "id": "82969dcc-5f68-4119-ad86-ac2c54e68387",
   "metadata": {
    "pycharm": {
     "name": "#%%\n"
    }
   },
   "outputs": [],
   "source": [
    "zoomdata.p_exp.unique()"
   ]
  },
  {
   "cell_type": "code",
   "execution_count": null,
   "id": "bf4b013f-2c72-422e-a8cc-0bcd73ab8e17",
   "metadata": {
    "pycharm": {
     "name": "#%%\n"
    }
   },
   "outputs": [],
   "source": [
    "zoomdata.date.unique()"
   ]
  },
  {
   "cell_type": "code",
   "execution_count": null,
   "id": "1b33c2cc-fdd9-4bcb-ad76-02a7996a6362",
   "metadata": {
    "pycharm": {
     "name": "#%%\n"
    }
   },
   "outputs": [],
   "source": [
    "zoomdata = zoomdata[(zoomdata.date>=20220511)&\n",
    "                    (zoomdata.time>=1652000000000)&\n",
    "                    (zoomdata.cond_practice==False)]"
   ]
  },
  {
   "cell_type": "code",
   "execution_count": null,
   "id": "dda4f195-15ee-4698-88ba-831c1175ee17",
   "metadata": {
    "pycharm": {
     "name": "#%%\n"
    }
   },
   "outputs": [],
   "source": [
    "zoomdata.subject.nunique()"
   ]
  },
  {
   "cell_type": "code",
   "execution_count": null,
   "id": "d51ee6da-d1a4-4396-a384-a3409bd50d39",
   "metadata": {
    "pycharm": {
     "name": "#%%\n"
    }
   },
   "outputs": [],
   "source": [
    "exclude_subjs = make_staircase_plots(zoomdata)"
   ]
  },
  {
   "cell_type": "code",
   "execution_count": null,
   "id": "b9971447-aaa4-442f-ba60-bd1f335ec0bf",
   "metadata": {
    "pycharm": {
     "name": "#%%\n"
    }
   },
   "outputs": [],
   "source": [
    "len(exclude_subjs)"
   ]
  },
  {
   "cell_type": "code",
   "execution_count": null,
   "id": "2cb45a2f-8dbc-40f8-8ada-e0d8074a6204",
   "metadata": {
    "pycharm": {
     "name": "#%%\n"
    }
   },
   "outputs": [],
   "source": [
    "# How many missing subjects per experiment\n",
    "for pe in [0.75, 0.5, 0.25]:\n",
    "    print(pe, zoomdata[(zoomdata['p_exp']==pe)&(zoomdata.subject.isin(exclude_subjs))].subject.nunique())"
   ]
  },
  {
   "cell_type": "code",
   "execution_count": null,
   "id": "f11d5ea1-9ca5-433e-a692-d7953e4ffbad",
   "metadata": {
    "pycharm": {
     "name": "#%%\n"
    }
   },
   "outputs": [],
   "source": [
    "zoomdata = zoomdata[~zoomdata.subject.isin(exclude_subjs)]"
   ]
  },
  {
   "cell_type": "code",
   "execution_count": null,
   "id": "74629df2-e5f7-474a-ad39-cf6b7027647d",
   "metadata": {
    "pycharm": {
     "name": "#%%\n"
    }
   },
   "outputs": [],
   "source": [
    "zoomdata"
   ]
  },
  {
   "cell_type": "code",
   "execution_count": null,
   "id": "bf09d747-f139-44f8-a639-9560da260443",
   "metadata": {
    "pycharm": {
     "name": "#%%\n"
    }
   },
   "outputs": [],
   "source": [
    "zoomdata.subject.nunique()"
   ]
  },
  {
   "cell_type": "code",
   "execution_count": null,
   "id": "6411cc14-84ba-40a2-a2f4-cf9ca2579cbb",
   "metadata": {
    "pycharm": {
     "name": "#%%\n"
    }
   },
   "outputs": [],
   "source": [
    "zoomdata.response.value_counts(dropna=False)"
   ]
  },
  {
   "cell_type": "code",
   "execution_count": null,
   "id": "dad8de86-67c3-4d12-99d1-650354d4804b",
   "metadata": {
    "pycharm": {
     "name": "#%%\n"
    }
   },
   "outputs": [],
   "source": [
    "zoomdata.corr_resp.value_counts()"
   ]
  },
  {
   "cell_type": "markdown",
   "id": "33230c81-9754-41a8-8fc5-8bb89ec46f56",
   "metadata": {
    "pycharm": {
     "name": "#%% md\n"
    }
   },
   "source": [
    "#\n",
    "## Compute d' and criterion"
   ]
  },
  {
   "cell_type": "code",
   "execution_count": null,
   "id": "c42cb01d-f5c9-4d1c-9952-b7f1cfa94a87",
   "metadata": {
    "pycharm": {
     "name": "#%%\n"
    }
   },
   "outputs": [],
   "source": [
    "zoomdata = compute_dprimes(zoomdata)"
   ]
  },
  {
   "cell_type": "markdown",
   "id": "f44e0660-84c2-424e-917e-587240ca9759",
   "metadata": {
    "pycharm": {
     "name": "#%% md\n"
    }
   },
   "source": [
    "#"
   ]
  },
  {
   "cell_type": "code",
   "execution_count": null,
   "id": "43f76843-cf7e-41ba-a939-ef1894ab0568",
   "metadata": {
    "pycharm": {
     "name": "#%%\n"
    }
   },
   "outputs": [],
   "source": [
    "trialnos = []\n",
    "for i, s in enumerate(zoomdata.subject.unique()):\n",
    "    thissub = zoomdata[zoomdata['subject']==s]\n",
    "    thissub = thissub[96:]\n",
    "    if i==0:\n",
    "        zoomdata_cut = thissub\n",
    "    else:\n",
    "        zoomdata_cut = pd.concat([zoomdata_cut, thissub])"
   ]
  },
  {
   "cell_type": "code",
   "execution_count": null,
   "id": "5963830f-e5a9-4f50-890b-8c5a1986ae69",
   "metadata": {
    "pycharm": {
     "name": "#%%\n"
    }
   },
   "outputs": [],
   "source": [
    "len(zoomdata_cut)/151"
   ]
  },
  {
   "cell_type": "code",
   "execution_count": null,
   "id": "a6817ce8-9d36-4ddd-a8dd-afb80e5cac25",
   "metadata": {
    "pycharm": {
     "name": "#%%\n"
    }
   },
   "outputs": [],
   "source": [
    "zoomdata_cut['int_diff'] = zoomdata_cut['int_diff'].apply(np.abs)"
   ]
  },
  {
   "cell_type": "code",
   "execution_count": null,
   "id": "c756288f-ab81-4999-869a-db0c21e58a47",
   "metadata": {
    "pycharm": {
     "name": "#%%\n"
    }
   },
   "outputs": [],
   "source": [
    "zoomcutmeans = zoomdata_cut.groupby(['p_exp', 'subject']).mean().reset_index()"
   ]
  },
  {
   "cell_type": "code",
   "execution_count": null,
   "id": "fd1c95bd-749c-4d7c-9955-02b20cb26484",
   "metadata": {
    "pycharm": {
     "name": "#%%\n"
    }
   },
   "outputs": [],
   "source": [
    "len(zoomcutmeans)"
   ]
  },
  {
   "cell_type": "code",
   "execution_count": null,
   "id": "c740950e-f755-4fc4-84c8-fd1d0b1eeffa",
   "metadata": {
    "pycharm": {
     "name": "#%%\n"
    }
   },
   "outputs": [],
   "source": [
    "zoomcutmeans.groupby(['p_exp'])[['int_diff']].agg(['mean', 'std'])"
   ]
  },
  {
   "cell_type": "code",
   "execution_count": null,
   "id": "503a1058-ca7a-4c8d-bb14-e4e745aa18ca",
   "metadata": {
    "pycharm": {
     "name": "#%%\n"
    }
   },
   "outputs": [],
   "source": [
    "zoomdata.groupby(['p_exp', 'expected'])[['hit', 'dprime', 'criterion']].agg(['mean', 'sem'])"
   ]
  },
  {
   "cell_type": "code",
   "execution_count": null,
   "id": "d26fed94-482a-4967-8f2b-e79e1dccdd55",
   "metadata": {
    "pycharm": {
     "name": "#%%\n"
    }
   },
   "outputs": [],
   "source": []
  },
  {
   "cell_type": "code",
   "execution_count": null,
   "id": "8f5a62d5-c10d-419a-a2c5-e620c93a912e",
   "metadata": {
    "pycharm": {
     "name": "#%%\n"
    }
   },
   "outputs": [],
   "source": [
    "p50means_cut = zoomdata_cut[zoomdata_cut['p_exp']==0.5].groupby(['subject', 'expected']).mean().reset_index()\n",
    "pg.ttest(p50means_cut[p50means_cut['expected']==1]['criterion'], \n",
    "         p50means_cut[p50means_cut['expected']==0]['criterion'], paired=True)"
   ]
  },
  {
   "cell_type": "code",
   "execution_count": null,
   "id": "e722d94c-5e23-4027-91f9-4d2d8a771571",
   "metadata": {
    "pycharm": {
     "name": "#%%\n"
    }
   },
   "outputs": [],
   "source": [
    "p25means_cut = zoomdata_cut[zoomdata_cut['p_exp']==0.25].groupby(['subject', 'expected']).mean().reset_index()\n",
    "pg.ttest(p25means_cut[p25means_cut['expected']==1]['criterion'], \n",
    "         p25means_cut[p25means_cut['expected']==0]['criterion'], paired=True)"
   ]
  },
  {
   "cell_type": "code",
   "execution_count": null,
   "id": "bc4d1d31-9c1c-471f-86df-73bd282e3534",
   "metadata": {
    "pycharm": {
     "name": "#%%\n"
    }
   },
   "outputs": [],
   "source": [
    "zoomp75means = zoomdata[zoomdata['p_exp']==0.75].groupby(['subject', 'expected']).mean().reset_index()\n",
    "zoomp50means = zoomdata[zoomdata['p_exp']==0.5].groupby(['subject', 'expected']).mean().reset_index()\n",
    "zoomp25means = zoomdata[zoomdata['p_exp']==0.25].groupby(['subject', 'expected']).mean().reset_index()\n",
    "allzoommeans = zoomdata.groupby(['subject', 'expected', 'p_exp']).mean().reset_index()"
   ]
  },
  {
   "cell_type": "code",
   "execution_count": null,
   "id": "daee4146-d627-402e-8874-93b2b83572ea",
   "metadata": {
    "pycharm": {
     "name": "#%%\n"
    }
   },
   "outputs": [],
   "source": [
    "pg.ttest(zoomp75means.groupby(['subject']).mean().reset_index()['criterion'], 0.0)"
   ]
  },
  {
   "cell_type": "code",
   "execution_count": null,
   "id": "9f2d88ba-5cd2-4c0c-b38a-e48808ef919e",
   "metadata": {
    "pycharm": {
     "name": "#%%\n"
    }
   },
   "outputs": [],
   "source": [
    "pg.ttest(zoomp50means.groupby(['subject']).mean().reset_index()['criterion'], 0.0)"
   ]
  },
  {
   "cell_type": "code",
   "execution_count": null,
   "id": "276f19b2-4b34-4683-b8bf-4f3232f0ad65",
   "metadata": {
    "pycharm": {
     "name": "#%%\n"
    }
   },
   "outputs": [],
   "source": [
    "pg.ttest(zoomp25means.groupby(['subject']).mean().reset_index()['criterion'], 0.0)"
   ]
  },
  {
   "cell_type": "code",
   "execution_count": null,
   "id": "13875485-91d8-496e-9dc2-06ea88dd3fbc",
   "metadata": {
    "pycharm": {
     "name": "#%%\n"
    }
   },
   "outputs": [],
   "source": [
    "zoomp50means.groupby(['subject']).mean().reset_index()['criterion'].mean()"
   ]
  },
  {
   "cell_type": "code",
   "execution_count": null,
   "id": "4e9b921c-6cf4-472a-8da6-699652640997",
   "metadata": {
    "pycharm": {
     "name": "#%%\n"
    }
   },
   "outputs": [],
   "source": [
    "allzoommeans.groupby(['subject', 'p_exp']).mean().reset_index().groupby(['p_exp'])[['hit', 'criterion']].agg(['mean', 'sem'])"
   ]
  },
  {
   "cell_type": "code",
   "execution_count": null,
   "id": "2bba4572-7cf1-4c99-8910-88b09370bd84",
   "metadata": {
    "pycharm": {
     "name": "#%%\n"
    }
   },
   "outputs": [],
   "source": [
    "# scatter plot of hit rate and criterion\n",
    "plot = sns.jointplot(x='hit', y='dprime', data=allzoommeans[allzoommeans['expected']==1], \n",
    "                     hue='p_exp', palette='tab10')\n",
    "plot.ax_joint.axvline(0.5, linestyle='--', color='grey')\n",
    "plot.ax_joint.axhline(0.0, linestyle='--', color='grey')\n",
    "plot.ax_marg_x.axvline(0.5, linestyle='--', color='grey')\n",
    "plot.ax_marg_y.axhline(0.0, linestyle='--', color='grey')"
   ]
  },
  {
   "cell_type": "code",
   "execution_count": null,
   "id": "c283cc56-a835-4353-8c27-2596ac1594d4",
   "metadata": {
    "pycharm": {
     "name": "#%%\n"
    }
   },
   "outputs": [],
   "source": [
    "# scatter plot of hit rate and criterion\n",
    "plot = sns.jointplot(x='hit', y='criterion', data=allzoommeans[allzoommeans['expected']==1], \n",
    "                     hue='p_exp', palette='tab10')\n",
    "plot.ax_joint.axvline(0.5, linestyle='--', color='grey')\n",
    "plot.ax_joint.axhline(0.0, linestyle='--', color='grey')\n",
    "plot.ax_marg_x.axvline(0.5, linestyle='--', color='grey')\n",
    "plot.ax_marg_y.axhline(0.0, linestyle='--', color='grey')"
   ]
  },
  {
   "cell_type": "code",
   "execution_count": null,
   "id": "5b3abe55-b2d0-4428-afaa-ca1bae9121b0",
   "metadata": {
    "pycharm": {
     "name": "#%%\n"
    }
   },
   "outputs": [],
   "source": [
    "zoomp75means.groupby(['expected'])[['criterion', 'dprime']].agg(['mean', 'sem'])"
   ]
  },
  {
   "cell_type": "code",
   "execution_count": null,
   "id": "be144e62-7e56-4470-b8fc-c17a5ecc745c",
   "metadata": {
    "pycharm": {
     "name": "#%%\n"
    }
   },
   "outputs": [],
   "source": [
    "pg.ttest(zoomp75means[zoomp75means['expected']==1]['criterion'], \n",
    "         zoomp75means[zoomp75means['expected']==0]['criterion'], paired=True)"
   ]
  },
  {
   "cell_type": "code",
   "execution_count": null,
   "id": "5b8e66bc-ed97-4e60-987b-b886403c1fc1",
   "metadata": {
    "pycharm": {
     "name": "#%%\n"
    }
   },
   "outputs": [],
   "source": [
    "pg.ttest(zoomp75means[zoomp75means['expected']==1]['dprime'], \n",
    "         zoomp75means[zoomp75means['expected']==0]['dprime'], paired=True)"
   ]
  },
  {
   "cell_type": "code",
   "execution_count": null,
   "id": "04be2e9d-48af-4323-b165-c14d3aa7da4e",
   "metadata": {
    "pycharm": {
     "name": "#%%\n"
    }
   },
   "outputs": [],
   "source": [
    "zoomp50means.groupby(['expected'])[['criterion', 'dprime']].agg(['mean', 'sem'])"
   ]
  },
  {
   "cell_type": "code",
   "execution_count": null,
   "id": "b92dcc04-4a3c-4afc-9959-4455dfea0217",
   "metadata": {
    "pycharm": {
     "name": "#%%\n"
    }
   },
   "outputs": [],
   "source": [
    "pg.ttest(zoomp50means[zoomp50means['expected']==1]['criterion'], \n",
    "         zoomp50means[zoomp50means['expected']==0]['criterion'], paired=True)"
   ]
  },
  {
   "cell_type": "code",
   "execution_count": null,
   "id": "b9d4b2a8-9408-4c82-98fb-cff8ab48a0df",
   "metadata": {
    "pycharm": {
     "name": "#%%\n"
    }
   },
   "outputs": [],
   "source": [
    "pg.ttest(zoomp50means[zoomp50means['expected']==1]['dprime'], \n",
    "         zoomp50means[zoomp50means['expected']==0]['dprime'], paired=True)"
   ]
  },
  {
   "cell_type": "code",
   "execution_count": null,
   "id": "b4d1537d-7a82-445e-b3ce-357e7f84c756",
   "metadata": {
    "pycharm": {
     "name": "#%%\n"
    }
   },
   "outputs": [],
   "source": [
    "pg.ttest(zoomp25means[zoomp25means['expected']==1]['criterion'], \n",
    "         zoomp25means[zoomp25means['expected']==0]['criterion'], paired=True)"
   ]
  },
  {
   "cell_type": "code",
   "execution_count": null,
   "id": "4715a6e2-9cc7-4ee3-a7e4-7e72ec56e46c",
   "metadata": {
    "pycharm": {
     "name": "#%%\n"
    }
   },
   "outputs": [],
   "source": [
    "pg.ttest(zoomp25means[zoomp25means['expected']==1]['dprime'], \n",
    "         zoomp25means[zoomp25means['expected']==0]['dprime'], paired=True)"
   ]
  },
  {
   "cell_type": "code",
   "execution_count": null,
   "id": "0e47d1e6-2261-4ce5-ba05-78f070c44ae5",
   "metadata": {
    "pycharm": {
     "name": "#%%\n"
    }
   },
   "outputs": [],
   "source": [
    "zoomp50means['hit'].corr(zoomp50means['criterion'], method='pearson')"
   ]
  },
  {
   "cell_type": "code",
   "execution_count": null,
   "id": "52d04a75-9da0-48e8-8ebf-9f32160fcebb",
   "metadata": {
    "pycharm": {
     "name": "#%%\n"
    }
   },
   "outputs": [],
   "source": [
    "p50means = zoomdata[zoomdata['p_exp']==0.5].groupby(['subject', 'expected']).mean().reset_index()\n",
    "pg.ttest(p50means[p50means['expected']==1]['criterion'], p50means[p50means['expected']==0]['criterion'], paired=True)"
   ]
  },
  {
   "cell_type": "code",
   "execution_count": null,
   "id": "f9e0e0e2-c0ee-49de-85d5-5bec52c39b04",
   "metadata": {
    "pycharm": {
     "name": "#%%\n"
    }
   },
   "outputs": [],
   "source": [
    "p75means = zoomdata[zoomdata['p_exp']==0.75].groupby(['subject', 'expected']).mean().reset_index()\n",
    "pg.ttest(p75means[p75means['expected']==1]['dprime'], p75means[p75means['expected']==0]['dprime'], paired=True)"
   ]
  },
  {
   "cell_type": "code",
   "execution_count": null,
   "id": "f46e72e7-3a31-4adc-bbc6-bfcdb76b1352",
   "metadata": {
    "pycharm": {
     "name": "#%%\n"
    }
   },
   "outputs": [],
   "source": [
    "zoomp75means['hit'].corr(zoomp75means['criterion'], method='pearson')"
   ]
  },
  {
   "cell_type": "code",
   "execution_count": null,
   "id": "828514a1-303c-4e5b-9ae9-b653da4e2655",
   "metadata": {
    "pycharm": {
     "name": "#%%\n"
    }
   },
   "outputs": [],
   "source": [
    "zoomp50means['hit'].corr(zoomp50means['criterion'], method='pearson')"
   ]
  },
  {
   "cell_type": "code",
   "execution_count": null,
   "id": "136f1b8e-7827-4137-8eff-afb33d8f43b3",
   "metadata": {
    "pycharm": {
     "name": "#%%\n"
    }
   },
   "outputs": [],
   "source": [
    "zoomp25means['hit'].corr(zoomp25means['criterion'], method='pearson')"
   ]
  },
  {
   "cell_type": "code",
   "execution_count": null,
   "id": "88d69bfc-355b-4127-89e6-ffc9a75bc15a",
   "metadata": {
    "pycharm": {
     "name": "#%%\n"
    }
   },
   "outputs": [],
   "source": [
    "pg.ttest(allzoommeans[(allzoommeans['p_exp']==0.75)&(allzoommeans['expected']==0)]['dprime'], \n",
    "         allzoommeans[(allzoommeans['p_exp']==0.5)&(allzoommeans['expected']==0)]['dprime'], paired=False)"
   ]
  },
  {
   "cell_type": "code",
   "execution_count": null,
   "id": "1e397484-1630-4296-9af5-39b67c205722",
   "metadata": {
    "pycharm": {
     "name": "#%%\n"
    }
   },
   "outputs": [],
   "source": [
    "sns.barplot(x='p_exp', y='dprime', hue='expected', \n",
    "             data=allzoommeans, order=[0.75, 0.5, 0.25], hue_order=[1, 0])"
   ]
  },
  {
   "cell_type": "code",
   "execution_count": null,
   "id": "c0645d59-67cd-4ff4-8336-169a7b2b2a45",
   "metadata": {
    "pycharm": {
     "name": "#%%\n"
    }
   },
   "outputs": [],
   "source": [
    "_ = sns.barplot(x='p_exp', y='dprime', hue='expected', \n",
    "            data=allzoommeans, order=[0.75, 0.5, 0.25], hue_order=[1, 0])"
   ]
  },
  {
   "cell_type": "code",
   "execution_count": null,
   "id": "52dfeb4e-85f4-4cce-afee-8c15797d8fea",
   "metadata": {
    "pycharm": {
     "name": "#%%\n"
    }
   },
   "outputs": [],
   "source": [
    "make_pretty_plot(zoomp75means, measure='dprime', rotzoom='zoom')"
   ]
  },
  {
   "cell_type": "code",
   "execution_count": null,
   "id": "2be20f48-6721-4acc-82f8-9a1cf3bd3770",
   "metadata": {
    "pycharm": {
     "name": "#%%\n"
    }
   },
   "outputs": [],
   "source": [
    "aov = pg.mixed_anova(dv='dprime', within='expected',\n",
    "                             between='p_exp',\n",
    "                             subject='subject', \n",
    "                             data=zoomdata[zoomdata.p_exp.isin([0.75, 0.5, 0.25])])\n",
    "pg.print_table(aov)"
   ]
  },
  {
   "cell_type": "code",
   "execution_count": null,
   "id": "09812844-033d-43c4-a7f8-488e8c3f104c",
   "metadata": {
    "pycharm": {
     "name": "#%%\n"
    }
   },
   "outputs": [],
   "source": [
    "aov = pg.mixed_anova(dv='criterion', within='expected',\n",
    "                             between='p_exp',\n",
    "                             subject='subject', \n",
    "                             data=zoomdata[zoomdata.p_exp.isin([0.75, 0.5, 0.25])])\n",
    "pg.print_table(aov)"
   ]
  },
  {
   "cell_type": "code",
   "execution_count": null,
   "id": "391b5ff2-3df7-4a95-b3a1-e46d78e910e5",
   "metadata": {
    "pycharm": {
     "name": "#%%\n"
    }
   },
   "outputs": [],
   "source": [
    "aov = pg.mixed_anova(dv='hit', within='expected',\n",
    "                             between='p_exp',\n",
    "                             subject='subject', \n",
    "                             data=zoomdata[zoomdata.p_exp.isin([0.75, 0.5, 0.25])])\n",
    "pg.print_table(aov)"
   ]
  },
  {
   "cell_type": "code",
   "execution_count": null,
   "id": "9f52dd6e-bb45-4fae-90cd-ee6463bdce80",
   "metadata": {
    "pycharm": {
     "name": "#%%\n"
    }
   },
   "outputs": [],
   "source": [
    "zoomdata[zoomdata['p_exp']==0.25].subject.unique()"
   ]
  },
  {
   "cell_type": "markdown",
   "id": "c582da9b-d05d-49d8-b8e6-1f77c052a6e2",
   "metadata": {
    "pycharm": {
     "name": "#%% md\n"
    }
   },
   "source": [
    "### Survey data"
   ]
  },
  {
   "cell_type": "code",
   "execution_count": null,
   "id": "071009d5-77cb-4bfd-9960-ba6da76c6c0d",
   "metadata": {
    "pycharm": {
     "name": "#%%\n"
    }
   },
   "outputs": [],
   "source": [
    "zoomsanchecks, zoomsurveys = get_sanchecks_and_surveys(zoomdata)"
   ]
  },
  {
   "cell_type": "code",
   "execution_count": null,
   "id": "56222ca7-aed1-468e-b358-d6722c7ec081",
   "metadata": {
    "pycharm": {
     "name": "#%%\n"
    }
   },
   "outputs": [],
   "source": [
    "zoomsurveys.head()"
   ]
  },
  {
   "cell_type": "code",
   "execution_count": null,
   "id": "fce899ee-de28-418b-823e-cf531d8d075b",
   "metadata": {
    "pycharm": {
     "name": "#%%\n"
    }
   },
   "outputs": [],
   "source": [
    "zoomsurveys.sort_values(['p_exp'],ascending=False).groupby(['p_exp'])[['sequence_attention', 'object_expect', 'percent_expected']].agg(['mean', 'sem'])"
   ]
  },
  {
   "cell_type": "code",
   "execution_count": null,
   "id": "84427bad-95de-4ca7-8ac8-a8d5b61ff82b",
   "metadata": {
    "pycharm": {
     "name": "#%%\n"
    }
   },
   "outputs": [],
   "source": [
    "aov = pg.welch_anova(dv='sequence_attention', between='p_exp', data=zoomsurveys)\n",
    "\n",
    "pg.print_table(aov)"
   ]
  },
  {
   "cell_type": "code",
   "execution_count": null,
   "id": "d4755511-9400-4e1b-9de6-cb11468654bc",
   "metadata": {
    "pycharm": {
     "name": "#%%\n"
    }
   },
   "outputs": [],
   "source": [
    "aov = pg.welch_anova(dv='object_expect', between='p_exp', data=zoomsurveys)\n",
    "\n",
    "pg.print_table(aov)"
   ]
  },
  {
   "cell_type": "code",
   "execution_count": null,
   "id": "dbd88bc1-0d0c-4e0b-97ac-00406cd3ef19",
   "metadata": {
    "pycharm": {
     "name": "#%%\n"
    }
   },
   "outputs": [],
   "source": [
    "aov = pg.welch_anova(dv='percent_expected', between='p_exp', data=zoomsurveys)\n",
    "\n",
    "pg.print_table(aov)"
   ]
  },
  {
   "cell_type": "code",
   "execution_count": null,
   "id": "c0ab57a7-fba2-4cec-8caf-a19c6d9ece91",
   "metadata": {
    "pycharm": {
     "name": "#%%\n"
    }
   },
   "outputs": [],
   "source": [
    "allzoommeans.head()"
   ]
  },
  {
   "cell_type": "code",
   "execution_count": null,
   "id": "f5b32315-6298-4ae4-b398-0e5e716a76a5",
   "metadata": {
    "pycharm": {
     "name": "#%%\n"
    }
   },
   "outputs": [],
   "source": [
    "# Use deviation from the correct probability instead of absolute value?\n",
    "\n",
    "#zoomsurveys['percent_expected'] = np.abs(zoomsurveys['percent_expected'].values - 100*zoomsurveys['p_exp'].values)"
   ]
  },
  {
   "cell_type": "code",
   "execution_count": null,
   "id": "5bf9adc0-312f-4ee2-8e02-8c0243f77e2e",
   "metadata": {
    "pycharm": {
     "name": "#%%\n"
    }
   },
   "outputs": [],
   "source": [
    "print('==================')\n",
    "print('Overall')\n",
    "print('------------------')\n",
    "critdiffs = allzoommeans[allzoommeans['expected']==1].criterion.values - \\\n",
    "            allzoommeans[allzoommeans['expected']==0].criterion.values\n",
    "dprdiffs = allzoommeans[allzoommeans['expected']==1].dprime.values - \\\n",
    "           allzoommeans[allzoommeans['expected']==0].dprime.values\n",
    "print('Criterion-sequence attention correlation:')\n",
    "stats = pg.corr(zoomsurveys.sequence_attention, critdiffs, method='pearson')\n",
    "print('r =', stats['r'][0], '- p =', stats['p-val'][0], '- BF01 =', 1/float(stats['BF10'][0]), '\\n')\n",
    "print('DPrime-sequence attention correlation:')\n",
    "stats = pg.corr(zoomsurveys.sequence_attention, dprdiffs, method='pearson')\n",
    "print('r =', stats['r'][0], '- p =', stats['p-val'][0], '- BF01 =', 1/float(stats['BF10'][0]), '\\n')\n",
    "#tau, p = kendalltau(zoomsurveys[zoomsurveys['p_exp']==pe].sequence_attention, critdiffs, nan_policy='omit')\n",
    "#print('tau =', tau, '- p =', p, '\\n')\n",
    "print('Criterion-object prediction correlation:')\n",
    "stats = pg.corr(zoomsurveys.object_expect, critdiffs, method='pearson')\n",
    "print('r =', stats['r'][0], '- p =', stats['p-val'][0], '- BF01 =', 1/float(stats['BF10'][0]), '\\n')\n",
    "print('DPrime-object prediction correlation:')\n",
    "stats = pg.corr(zoomsurveys.object_expect, dprdiffs, method='pearson')\n",
    "print('r =', stats['r'][0], '- p =', stats['p-val'][0], '- BF01 =', 1/float(stats['BF10'][0]), '\\n')\n",
    "#tau, p = kendalltau(zoomsurveys[zoomsurveys['p_exp']==pe].object_expect, critdiffs, nan_policy='omit')\n",
    "#print('tau =', tau, '- p =', p, '\\n')\n",
    "print('Criterion-probability estimate correlation:')\n",
    "stats = pg.corr(zoomsurveys.percent_expected, critdiffs, method='pearson')\n",
    "print('r =', stats['r'][0], '- p =', stats['p-val'][0], '- BF01 =', 1/float(stats['BF10'][0]), '\\n')\n",
    "print('DPrime-probability estimate correlation:')\n",
    "stats = pg.corr(zoomsurveys.percent_expected, dprdiffs, method='pearson')\n",
    "print('r =', stats['r'][0], '- p =', stats['p-val'][0], '- BF01 =', 1/float(stats['BF10'][0]), '\\n')\n",
    "\n",
    "for pe in [0.75, 0.5, 0.25]:\n",
    "    print('==================')\n",
    "    print('P(Exp) =', pe)\n",
    "    print('------------------')\n",
    "    thispexp = allzoommeans[allzoommeans['p_exp']==pe]\n",
    "    critdiffs = thispexp[thispexp['expected']==1].criterion.values - \\\n",
    "                thispexp[thispexp['expected']==0].criterion.values\n",
    "    dprdiffs = thispexp[thispexp['expected']==1].dprime.values - \\\n",
    "               thispexp[thispexp['expected']==0].dprime.values\n",
    "    print('Criterion-sequence attention correlation:')\n",
    "    stats = pg.corr(zoomsurveys[zoomsurveys['p_exp']==pe].sequence_attention, critdiffs, method='pearson')\n",
    "    print('r =', stats['r'][0], '- p =', stats['p-val'][0], '- BF01 =', 1/float(stats['BF10'][0]), '\\n')\n",
    "    print('DPrime-sequence attention correlation:')\n",
    "    stats = pg.corr(zoomsurveys[zoomsurveys['p_exp']==pe].sequence_attention, dprdiffs, method='pearson')\n",
    "    print('r =', stats['r'][0], '- p =', stats['p-val'][0], '- BF01 =', 1/float(stats['BF10'][0]), '\\n')\n",
    "    #tau, p = kendalltau(zoomsurveys[zoomsurveys['p_exp']==pe].sequence_attention, critdiffs, nan_policy='omit')\n",
    "    #print('tau =', tau, '- p =', p, '\\n')\n",
    "    print('Criterion-object prediction correlation:')\n",
    "    stats = pg.corr(zoomsurveys[zoomsurveys['p_exp']==pe].object_expect, critdiffs, method='pearson')\n",
    "    print('r =', stats['r'][0], '- p =', stats['p-val'][0], '- BF01 =', 1/float(stats['BF10'][0]), '\\n')\n",
    "    print('DPrime-object prediction correlation:')\n",
    "    stats = pg.corr(zoomsurveys[zoomsurveys['p_exp']==pe].object_expect, dprdiffs, method='pearson')\n",
    "    print('r =', stats['r'][0], '- p =', stats['p-val'][0], '- BF01 =', 1/float(stats['BF10'][0]), '\\n')\n",
    "    #tau, p = kendalltau(zoomsurveys[zoomsurveys['p_exp']==pe].object_expect, critdiffs, nan_policy='omit')\n",
    "    #print('tau =', tau, '- p =', p, '\\n')\n",
    "    print('Criterion-probability estimate correlation:')\n",
    "    stats = pg.corr(zoomsurveys[zoomsurveys['p_exp']==pe].percent_expected, critdiffs, method='pearson')\n",
    "    print('r =', stats['r'][0], '- p =', stats['p-val'][0], '- BF01 =', 1/float(stats['BF10'][0]), '\\n')\n",
    "    print('DPrime-probability estimate correlation:')\n",
    "    stats = pg.corr(zoomsurveys[zoomsurveys['p_exp']==pe].percent_expected, dprdiffs, method='pearson')\n",
    "    print('r =', stats['r'][0], '- p =', stats['p-val'][0], '- BF01 =', 1/float(stats['BF10'][0]), '\\n')\n",
    "    #tau, p = kendalltau(zoomsurveys[zoomsurveys['p_exp']==pe].percent_expected, critdiffs, nan_policy='omit')\n",
    "    #print('tau =', tau, '- p =', p, '\\n')\n",
    "    \n",
    "    #print('DPrime-sequence attention correlation:')\n",
    "    #tau, p = kendalltau(zoomsurveys[zoomsurveys['p_exp']==pe].sequence_attention, dprdiffs, nan_policy='omit')\n",
    "    #print('tau =', tau, 'p =', p, '\\n')\n",
    "    #print('DPrime-object prediction correlation:')\n",
    "    #tau, p = kendalltau(zoomsurveys[zoomsurveys['p_exp']==pe].object_expect, dprdiffs, nan_policy='omit')\n",
    "    #print('tau =', tau, 'p =', p, '\\n')\n",
    "    #print('DPrime-probability estimate correlation:')\n",
    "    #tau, p = kendalltau(zoomsurveys[zoomsurveys['p_exp']==pe].percent_expected, dprdiffs, nan_policy='omit')\n",
    "    #print('tau =', tau, 'p =', p, '\\n')"
   ]
  },
  {
   "cell_type": "code",
   "execution_count": null,
   "id": "29ccfa11-dce7-4043-a754-dd89a2729032",
   "metadata": {
    "pycharm": {
     "name": "#%%\n"
    }
   },
   "outputs": [],
   "source": [
    "sceneattend_data = pd.DataFrame({\n",
    "    '0.75': [len(zoomsurveys[(zoomsurveys['p_exp']==0.75)&(zoomsurveys['sequence_attention']==i)]) for i in range(7)],\n",
    "    '0.50': [len(zoomsurveys[(zoomsurveys['p_exp']==0.50)&(zoomsurveys['sequence_attention']==i)]) for i in range(7)],\n",
    "    '0.25': [len(zoomsurveys[(zoomsurveys['p_exp']==0.25)&(zoomsurveys['sequence_attention']==i)]) for i in range(7)]\n",
    "}, index=[1,2,3,4,5,6,7])\n",
    "sceneattend_data = sceneattend_data.apply(lambda x: x/sum(x)*100, axis=0)"
   ]
  },
  {
   "cell_type": "code",
   "execution_count": null,
   "id": "e3a3cc82-cc2a-47fd-8232-70113248154d",
   "metadata": {
    "pycharm": {
     "name": "#%%\n"
    }
   },
   "outputs": [],
   "source": [
    "ax = sceneattend_data.transpose().plot(kind='bar', stacked=True, colormap='tab10', edgecolor='none')\n",
    "plt.xticks(rotation=0)\n",
    "ax.spines['right'].set_visible(False)\n",
    "ax.spines['left'].set_visible(False)\n",
    "ax.spines['top'].set_visible(False)\n",
    "#ax.spines['bottom'].set_visible(False)\n",
    "ax.tick_params(axis=u'both', which=u'both',length=0)\n",
    "ax.legend(bbox_to_anchor=(1.1, 1.05), fancybox=False, framealpha=1, edgecolor='black')\n",
    "plt.savefig('plots/zoom_sceneattend.pdf')"
   ]
  },
  {
   "cell_type": "code",
   "execution_count": null,
   "id": "5b0b49ae-2bb8-4182-8b1a-06de4fab06be",
   "metadata": {
    "pycharm": {
     "name": "#%%\n"
    }
   },
   "outputs": [],
   "source": [
    "zoomsurveys.object_expect.unique()"
   ]
  },
  {
   "cell_type": "code",
   "execution_count": null,
   "id": "abf85482-b2f6-4cac-ba5d-a84fa3f7f305",
   "metadata": {
    "pycharm": {
     "name": "#%%\n"
    }
   },
   "outputs": [],
   "source": [
    "objexpect_data = pd.DataFrame({\n",
    "    '0.75': [len(zoomsurveys[(zoomsurveys['p_exp']==0.75)&(zoomsurveys['object_expect']==i)]) for i in range(7)],\n",
    "    '0.50': [len(zoomsurveys[(zoomsurveys['p_exp']==0.50)&(zoomsurveys['object_expect']==i)]) for i in range(7)],\n",
    "    '0.25': [len(zoomsurveys[(zoomsurveys['p_exp']==0.25)&(zoomsurveys['object_expect']==i)]) for i in range(7)]\n",
    "}, index=[1,2,3,4,5,6,7])\n",
    "objexpect_data = objexpect_data.apply(lambda x: x/sum(x)*100, axis=0)"
   ]
  },
  {
   "cell_type": "code",
   "execution_count": null,
   "id": "648c8769-8483-493d-b540-23934545590e",
   "metadata": {
    "pycharm": {
     "name": "#%%\n"
    }
   },
   "outputs": [],
   "source": [
    "objexpect_data"
   ]
  },
  {
   "cell_type": "code",
   "execution_count": null,
   "id": "8ffa7518-12fa-4b49-ab99-10d1b4a1cf0a",
   "metadata": {
    "pycharm": {
     "name": "#%%\n"
    }
   },
   "outputs": [],
   "source": [
    "ax = objexpect_data.transpose().plot(kind='bar', stacked=True, colormap='tab10', edgecolor='none')\n",
    "plt.xticks(rotation=0)\n",
    "ax.spines['right'].set_visible(False)\n",
    "ax.spines['left'].set_visible(False)\n",
    "ax.spines['top'].set_visible(False)\n",
    "#ax.spines['bottom'].set_visible(False)\n",
    "ax.tick_params(axis=u'both', which=u'both',length=0)\n",
    "ax.legend(bbox_to_anchor=(1.1, 1.05), fancybox=False, framealpha=1, edgecolor='black')\n",
    "plt.savefig('plots/zoom_objexpect.pdf')"
   ]
  },
  {
   "cell_type": "code",
   "execution_count": null,
   "id": "af20bde1-a0c0-48ba-ad9b-8c083b0c207f",
   "metadata": {
    "pycharm": {
     "name": "#%%\n"
    }
   },
   "outputs": [],
   "source": []
  },
  {
   "cell_type": "code",
   "execution_count": null,
   "id": "40665179-cf06-4c36-99e2-24d7b4a14e94",
   "metadata": {
    "pycharm": {
     "name": "#%%\n"
    }
   },
   "outputs": [],
   "source": [
    "zoomsurveys[zoomsurveys['p_exp']==0.25]"
   ]
  },
  {
   "cell_type": "code",
   "execution_count": null,
   "id": "97778e13-4de9-420a-90f2-14b8582d61ae",
   "metadata": {
    "pycharm": {
     "name": "#%%\n"
    }
   },
   "outputs": [],
   "source": [
    "for com in zoomsurveys[zoomsurveys['p_exp']==0.25].comments:\n",
    "    print(com)\n",
    "    print('----------')"
   ]
  },
  {
   "cell_type": "markdown",
   "id": "f36f7230-c76b-486d-bb7d-607185f3f8ac",
   "metadata": {
    "pycharm": {
     "name": "#%% md\n"
    }
   },
   "source": [
    "### Across time"
   ]
  },
  {
   "cell_type": "code",
   "execution_count": null,
   "id": "61054f35-57c1-4d75-ac90-1ac323029805",
   "metadata": {
    "pycharm": {
     "name": "#%%\n"
    }
   },
   "outputs": [],
   "source": [
    "zoomtseries = get_measures_in_time(zoomdata)"
   ]
  },
  {
   "cell_type": "code",
   "execution_count": null,
   "id": "0ed14bfe-581a-4464-b7de-2aefaea9824c",
   "metadata": {
    "pycharm": {
     "name": "#%%\n"
    }
   },
   "outputs": [],
   "source": [
    "dprimetime = dprime_across_time(zoomdata)"
   ]
  },
  {
   "cell_type": "code",
   "execution_count": null,
   "id": "9cb0bc68-d1d8-4126-a417-ed730cb35c06",
   "metadata": {
    "pycharm": {
     "name": "#%%\n"
    }
   },
   "outputs": [],
   "source": [
    "dprimetime.head()"
   ]
  },
  {
   "cell_type": "code",
   "execution_count": null,
   "id": "8ecc3908-4bc0-46c7-82d2-9a051775c2f3",
   "metadata": {
    "pycharm": {
     "name": "#%%\n"
    }
   },
   "outputs": [],
   "source": [
    "fig, ax1 = plt.subplots()\n",
    "plot = sns.lineplot(x='winno', y='dprime', \n",
    "                    data=dprimetime[(dprimetime['p_exp']==0.75)&(dprimetime['expected']==1)],\n",
    "                    color='red')\n",
    "#plot.set(ylim=(0., 1.2))\n",
    "plot.set(xticklabels=[])\n",
    "plot.set(xlabel=None)\n",
    "ax2 = ax1.twiny()\n",
    "plot = sns.lineplot(x='winno', y='dprime',\n",
    "                   data=dprimetime[(dprimetime['p_exp']==0.75)&(dprimetime['expected']==0)],\n",
    "                   color='blue')\n",
    "#plot.set(ylim=(0., 1.2))\n",
    "plot.set(xticklabels=[])\n",
    "plot.set(xlabel=None)"
   ]
  },
  {
   "cell_type": "code",
   "execution_count": null,
   "id": "df69d35d-742e-4c87-a3e9-141bd9c2e4a3",
   "metadata": {
    "pycharm": {
     "name": "#%%\n"
    }
   },
   "outputs": [],
   "source": [
    "fig, ax1 = plt.subplots()\n",
    "plot = sns.lineplot(x='winno', y='criterion', \n",
    "                    data=dprimetime[(dprimetime['p_exp']==0.75)&(dprimetime['expected']==1)],\n",
    "                    color='red')\n",
    "#plot.set(ylim=(0., 1.2))\n",
    "plot.set(xticklabels=[])\n",
    "plot.set(xlabel=None)\n",
    "ax2 = ax1.twiny()\n",
    "plot = sns.lineplot(x='winno', y='criterion',\n",
    "                   data=dprimetime[(dprimetime['p_exp']==0.75)&(dprimetime['expected']==0)],\n",
    "                   color='blue')\n",
    "#plot.set(ylim=(0., 1.2))\n",
    "plot.set(xticklabels=[])\n",
    "plot.set(xlabel=None)"
   ]
  },
  {
   "cell_type": "code",
   "execution_count": null,
   "id": "a9a10d44-0107-4a98-b0dd-7cab5145d69d",
   "metadata": {
    "pycharm": {
     "name": "#%%\n"
    }
   },
   "outputs": [],
   "source": [
    "fig, ax1 = plt.subplots()\n",
    "plot = sns.lineplot(x='winno', y='dprime', \n",
    "                    data=dprimetime[(dprimetime['p_exp']==0.5)&(dprimetime['expected']==1)],\n",
    "                    color='red')\n",
    "#plot.set(ylim=(0., 1.2))\n",
    "plot.set(xticklabels=[])\n",
    "plot.set(xlabel=None)\n",
    "ax2 = ax1.twiny()\n",
    "plot = sns.lineplot(x='winno', y='dprime',\n",
    "                   data=dprimetime[(dprimetime['p_exp']==0.5)&(dprimetime['expected']==0)],\n",
    "                   color='blue')\n",
    "#plot.set(ylim=(0., 1.2))\n",
    "plot.set(xticklabels=[])\n",
    "plot.set(xlabel=None)"
   ]
  },
  {
   "cell_type": "code",
   "execution_count": null,
   "id": "307d8850-1379-42bc-85de-62017a07a465",
   "metadata": {
    "pycharm": {
     "name": "#%%\n"
    }
   },
   "outputs": [],
   "source": [
    "fig, ax1 = plt.subplots()\n",
    "plot = sns.lineplot(x='winno', y='criterion', \n",
    "                    data=dprimetime[(dprimetime['p_exp']==0.5)&(dprimetime['expected']==1)],\n",
    "                    color='red')\n",
    "#plot.set(ylim=(0., 1.2))\n",
    "plot.set(xticklabels=[])\n",
    "plot.set(xlabel=None)\n",
    "ax2 = ax1.twiny()\n",
    "plot = sns.lineplot(x='winno', y='criterion',\n",
    "                   data=dprimetime[(dprimetime['p_exp']==0.5)&(dprimetime['expected']==0)],\n",
    "                   color='blue')\n",
    "#plot.set(ylim=(0., 1.2))\n",
    "plot.set(xticklabels=[])\n",
    "plot.set(xlabel=None)"
   ]
  },
  {
   "cell_type": "code",
   "execution_count": null,
   "id": "6fce8b29-cc16-4d5b-a520-8efab12449d0",
   "metadata": {
    "pycharm": {
     "name": "#%%\n"
    }
   },
   "outputs": [],
   "source": [
    "fig, ax1 = plt.subplots()\n",
    "plot = sns.lineplot(x='winno', y='dprime', \n",
    "                    data=dprimetime[(dprimetime['p_exp']==0.25)&(dprimetime['expected']==1)],\n",
    "                    color='red')\n",
    "#plot.set(ylim=(0., 1.2))\n",
    "plot.set(xticklabels=[])\n",
    "plot.set(xlabel=None)\n",
    "ax2 = ax1.twiny()\n",
    "plot = sns.lineplot(x='winno', y='dprime',\n",
    "                   data=dprimetime[(dprimetime['p_exp']==0.25)&(dprimetime['expected']==0)],\n",
    "                   color='blue')\n",
    "#plot.set(ylim=(0., 1.2))\n",
    "plot.set(xticklabels=[])\n",
    "plot.set(xlabel=None)"
   ]
  },
  {
   "cell_type": "code",
   "execution_count": null,
   "id": "e57466af-d25d-4a8e-92d1-7db8c5aa2e13",
   "metadata": {
    "pycharm": {
     "name": "#%%\n"
    }
   },
   "outputs": [],
   "source": [
    "fig, ax1 = plt.subplots()\n",
    "plot = sns.lineplot(x='winno', y='criterion', \n",
    "                    data=dprimetime[(dprimetime['p_exp']==0.25)&(dprimetime['expected']==1)],\n",
    "                    color='red')\n",
    "#plot.set(ylim=(0., 1.2))\n",
    "plot.set(xticklabels=[])\n",
    "plot.set(xlabel=None)\n",
    "ax2 = ax1.twiny()\n",
    "plot = sns.lineplot(x='winno', y='criterion',\n",
    "                   data=dprimetime[(dprimetime['p_exp']==0.25)&(dprimetime['expected']==0)],\n",
    "                   color='blue')\n",
    "#plot.set(ylim=(0., 1.2))\n",
    "plot.set(xticklabels=[])\n",
    "plot.set(xlabel=None)"
   ]
  },
  {
   "cell_type": "code",
   "execution_count": null,
   "id": "8af986c3-7379-4cc7-8c87-99a15376ca13",
   "metadata": {
    "pycharm": {
     "name": "#%%\n"
    }
   },
   "outputs": [],
   "source": [
    "len(dprimetime)"
   ]
  },
  {
   "cell_type": "code",
   "execution_count": null,
   "id": "868bff48-25fa-44e0-94f4-bf02b178eba1",
   "metadata": {
    "pycharm": {
     "name": "#%%\n"
    }
   },
   "outputs": [],
   "source": [
    "zoomdata.p_exp.nunique()==3"
   ]
  },
  {
   "cell_type": "code",
   "execution_count": null,
   "id": "a7197a00-5ab6-4901-81c8-6df2369ee174",
   "metadata": {
    "pycharm": {
     "name": "#%%\n"
    }
   },
   "outputs": [],
   "source": [
    "zoomtseries.head()"
   ]
  },
  {
   "cell_type": "code",
   "execution_count": null,
   "id": "f05f092c-82e7-4830-928b-2517c21466b9",
   "metadata": {
    "pycharm": {
     "name": "#%%\n"
    }
   },
   "outputs": [],
   "source": [
    "fig, ax1 = plt.subplots()\n",
    "plot = sns.lineplot(x='trialno', y='hit', \n",
    "                    data=zoomtseries[(zoomtseries['p_exp']==0.75)&(zoomtseries['expected']==1)],\n",
    "                    color='red')\n",
    "plot.set(ylim=(0.5, 0.9))\n",
    "plot.set(xticklabels=[])\n",
    "plot.set(xlabel=None)\n",
    "ax2 = ax1.twiny()\n",
    "plot = sns.lineplot(x='trialno', y='hit',\n",
    "                   data=zoomtseries[(zoomtseries['p_exp']==0.75)&(zoomtseries['expected']==0)],\n",
    "                   color='blue')\n",
    "plot.set(ylim=(0.5, 0.9))\n",
    "plot.set(xticklabels=[])\n",
    "plot.set(xlabel=None)"
   ]
  },
  {
   "cell_type": "code",
   "execution_count": null,
   "id": "1a0b38bf-242c-4e1c-9df6-79a71709fb5e",
   "metadata": {
    "pycharm": {
     "name": "#%%\n"
    }
   },
   "outputs": [],
   "source": [
    "fig, ax1 = plt.subplots()\n",
    "plot = sns.lineplot(x='trialno', y='hit', \n",
    "                    data=zoomtseries[(zoomtseries['p_exp']==0.5)&(zoomtseries['expected']==1)],\n",
    "                    color='red')\n",
    "plot.set(ylim=(0.5, 0.9))\n",
    "plot.set(xticklabels=[])\n",
    "plot.set(xlabel=None)\n",
    "ax2 = ax1.twiny()\n",
    "plot = sns.lineplot(x='trialno', y='hit',\n",
    "                   data=zoomtseries[(zoomtseries['p_exp']==0.5)&(zoomtseries['expected']==0)],\n",
    "                   color='blue')\n",
    "plot.set(ylim=(0.5, 0.9))\n",
    "plot.set(xticklabels=[])\n",
    "plot.set(xlabel=None)"
   ]
  },
  {
   "cell_type": "code",
   "execution_count": null,
   "id": "0aaba367-ff8b-45cc-bd77-68a6f2288009",
   "metadata": {
    "pycharm": {
     "name": "#%%\n"
    }
   },
   "outputs": [],
   "source": [
    "fig, ax1 = plt.subplots()\n",
    "plot = sns.lineplot(x='trialno', y='hit', \n",
    "                    data=zoomtseries[(zoomtseries['p_exp']==0.25)&(zoomtseries['expected']==1)],\n",
    "                    color='red')\n",
    "plot.set(ylim=(0.5, 0.9))\n",
    "plot.set(xticklabels=[])\n",
    "plot.set(xlabel=None)\n",
    "ax2 = ax1.twiny()\n",
    "plot = sns.lineplot(x='trialno', y='hit',\n",
    "                   data=zoomtseries[(zoomtseries['p_exp']==0.25)&(zoomtseries['expected']==0)],\n",
    "                   color='blue')\n",
    "plot.set(ylim=(0.5, 0.9))\n",
    "plot.set(xticklabels=[])\n",
    "plot.set(xlabel=None)"
   ]
  },
  {
   "cell_type": "markdown",
   "id": "45f8de93-4b32-4f3b-88bb-73047652d4fd",
   "metadata": {
    "pycharm": {
     "name": "#%% md\n"
    }
   },
   "source": [
    "## Group experiments together"
   ]
  },
  {
   "cell_type": "code",
   "execution_count": null,
   "id": "51c7749c-2bc1-4414-aa9d-7097ef14ab24",
   "metadata": {
    "pycharm": {
     "name": "#%%\n"
    }
   },
   "outputs": [],
   "source": [
    "allsubjdata.head()"
   ]
  },
  {
   "cell_type": "code",
   "execution_count": null,
   "id": "de49fd7a-f4b5-4d71-a85a-215058cda8a0",
   "metadata": {
    "pycharm": {
     "name": "#%%\n"
    }
   },
   "outputs": [],
   "source": [
    "allsubjdata['condition'] = 'rotation'"
   ]
  },
  {
   "cell_type": "code",
   "execution_count": null,
   "id": "756812cc-18a0-44b3-be80-dbb98a82d555",
   "metadata": {
    "pycharm": {
     "name": "#%%\n"
    }
   },
   "outputs": [],
   "source": [
    "zoomdata.head()"
   ]
  },
  {
   "cell_type": "code",
   "execution_count": null,
   "id": "686ce1b8-8b57-431a-964c-62edf1f8c897",
   "metadata": {
    "pycharm": {
     "name": "#%%\n"
    }
   },
   "outputs": [],
   "source": [
    "zoomdata['condition'] = 'zoom'"
   ]
  },
  {
   "cell_type": "code",
   "execution_count": null,
   "id": "c6a82e33-0cd5-4869-adb1-b0933db1cb04",
   "metadata": {
    "pycharm": {
     "name": "#%%\n"
    }
   },
   "outputs": [],
   "source": [
    "allexpsdata = pd.concat([allsubjdata, zoomdata])"
   ]
  },
  {
   "cell_type": "code",
   "execution_count": null,
   "id": "9da36379-bca1-4612-b232-d3f544e5d6a4",
   "metadata": {
    "pycharm": {
     "name": "#%%\n"
    }
   },
   "outputs": [],
   "source": [
    "allexpsdata"
   ]
  },
  {
   "cell_type": "code",
   "execution_count": null,
   "id": "59f5cec3-9c65-4b8f-b66d-543fa1d6105f",
   "metadata": {
    "pycharm": {
     "name": "#%%\n"
    }
   },
   "outputs": [],
   "source": [
    "allexpsdata.subject.nunique()"
   ]
  },
  {
   "cell_type": "code",
   "execution_count": null,
   "id": "76d133cd-869c-420f-93fa-24fdae68c509",
   "metadata": {
    "pycharm": {
     "name": "#%%\n"
    }
   },
   "outputs": [],
   "source": [
    "# Get differences\n",
    "allexpsmeandiffs = []\n",
    "for s in allexpsdata.subject.unique():\n",
    "    thissub = allexpsdata[allexpsdata['subject']==s]\n",
    "    assert((thissub.p_exp.nunique()==1)&(thissub.condition.nunique()==1))\n",
    "    thisdiff_acc = thissub[thissub['expected']==1].hit.mean() - thissub[thissub['expected']==0].hit.mean()\n",
    "    thisdiff_dpr = thissub[thissub['expected']==1].dprime.mean() - thissub[thissub['expected']==0].dprime.mean()\n",
    "    thisdiff_crt = thissub[thissub['expected']==1].criterion.mean() - thissub[thissub['expected']==0].criterion.mean()\n",
    "    thisrow = {'subject': s, 'condition': thissub.condition.iloc[0], 'p_exp': thissub.p_exp.iloc[0],\n",
    "               'diff_acc': thisdiff_acc, 'diff_dprime': thisdiff_dpr, 'diff_crit': thisdiff_crt}\n",
    "    allexpsmeandiffs.append(thisrow)\n",
    "allexpsmeandiffs = pd.DataFrame(allexpsmeandiffs)"
   ]
  },
  {
   "cell_type": "code",
   "execution_count": null,
   "id": "ca8a58fc-0107-43d8-9ddf-133a125e149b",
   "metadata": {
    "pycharm": {
     "name": "#%%\n"
    }
   },
   "outputs": [],
   "source": [
    "allexpsmeandiffs"
   ]
  },
  {
   "cell_type": "code",
   "execution_count": null,
   "id": "b0b5b0da-34ea-491d-840e-1768acbb0a92",
   "metadata": {
    "pycharm": {
     "name": "#%%\n"
    }
   },
   "outputs": [],
   "source": [
    "aov = pg.anova(dv='diff_dprime', between=['condition', 'p_exp'],\n",
    "                             data=allexpsmeandiffs[allexpsmeandiffs['p_exp'].isin([0.5, 0.25])])\n",
    "pg.print_table(aov)"
   ]
  },
  {
   "cell_type": "code",
   "execution_count": null,
   "id": "80875b14-049b-4d96-9d05-b9963b4478f6",
   "metadata": {
    "pycharm": {
     "name": "#%%\n"
    }
   },
   "outputs": [],
   "source": [
    "aov = pg.anova(dv='diff_crit', between=['condition', 'p_exp'],\n",
    "                             data=allexpsmeandiffs[allexpsmeandiffs['p_exp'].isin([0.75, 0.5])])\n",
    "pg.print_table(aov)"
   ]
  },
  {
   "cell_type": "markdown",
   "id": "c4e998e6-de50-4a8f-9e21-0edc5e566daf",
   "metadata": {
    "pycharm": {
     "name": "#%% md\n"
    }
   },
   "source": [
    "## Participant demographics (zoom)"
   ]
  },
  {
   "cell_type": "code",
   "execution_count": null,
   "id": "1bff9430-1cef-4cf3-bd2a-d58042c34ad3",
   "metadata": {
    "pycharm": {
     "name": "#%%\n"
    }
   },
   "outputs": [],
   "source": [
    "# Participant demographics\n",
    "zoomdemodata = pd.DataFrame()\n",
    "subjdemo = glob('./prolific_export_*.csv')\n",
    "renamedict = {'Participant id': 'participant_id', 'Age': 'age', 'Sex': 'sex'}\n",
    "for sd in subjdemo:\n",
    "    thisdemodata = pd.read_csv(sd, engine='python', error_bad_lines=False)\n",
    "    thisdemodata = thisdemodata.rename(columns=renamedict)\n",
    "    thisdemodata = thisdemodata[list(renamedict.values())]\n",
    "    zoomdemodata = pd.concat([zoomdemodata, thisdemodata], ignore_index=True)"
   ]
  },
  {
   "cell_type": "code",
   "execution_count": null,
   "id": "3374718b-0c32-4437-903b-171d8fc1c78f",
   "metadata": {
    "pycharm": {
     "name": "#%%\n"
    }
   },
   "outputs": [],
   "source": [
    "for pid in zoomsanchecks[zoomsanchecks['p_exp']==0.75].prolific_id:\n",
    "    if pid not in list(zoomdemodata.participant_id):\n",
    "        print(pid)"
   ]
  },
  {
   "cell_type": "code",
   "execution_count": null,
   "id": "4fe51dc5-0a30-4997-96f8-fa91f125b624",
   "metadata": {
    "pycharm": {
     "name": "#%%\n"
    }
   },
   "outputs": [],
   "source": [
    "incl_ids = [i.strip() for i in zoomsanchecks.prolific_id]\n",
    "zoomdemodata = zoomdemodata[zoomdemodata['participant_id'].isin(incl_ids)]    \n",
    "\n",
    "demo_probs = []\n",
    "for thisid in zoomdemodata.participant_id:\n",
    "    thissub = zoomsanchecks[zoomsanchecks['prolific_id']==thisid]\n",
    "    demo_probs.append(thissub.p_exp.values[0])\n",
    "zoomdemodata['p_exp'] = demo_probs"
   ]
  },
  {
   "cell_type": "code",
   "execution_count": null,
   "id": "f69c51f8-b76b-4b7f-86bd-e040c951a357",
   "metadata": {
    "pycharm": {
     "name": "#%%\n"
    }
   },
   "outputs": [],
   "source": [
    "len(zoomdemodata[zoomdemodata['p_exp']==0.75])"
   ]
  },
  {
   "cell_type": "code",
   "execution_count": null,
   "id": "7faf53bf-22ef-4af1-8b46-600f398bc6d6",
   "metadata": {
    "pycharm": {
     "name": "#%%\n"
    }
   },
   "outputs": [],
   "source": [
    "zoomdemodata[zoomdemodata['p_exp']==0.75].sex.value_counts()"
   ]
  },
  {
   "cell_type": "code",
   "execution_count": null,
   "id": "f3c33602-916a-4991-8545-3140828c77fb",
   "metadata": {
    "pycharm": {
     "name": "#%%\n"
    }
   },
   "outputs": [],
   "source": [
    "zoomdemodata[zoomdemodata['p_exp']==0.5].sex.value_counts()"
   ]
  },
  {
   "cell_type": "code",
   "execution_count": null,
   "id": "06dbf18a-2ea6-4146-ba54-e32890b83f2a",
   "metadata": {
    "pycharm": {
     "name": "#%%\n"
    }
   },
   "outputs": [],
   "source": [
    "zoomdemodata[zoomdemodata['p_exp']==0.25].sex.value_counts()"
   ]
  },
  {
   "cell_type": "code",
   "execution_count": null,
   "id": "a162cdc5-853a-45fd-aa67-2cf127a6998c",
   "metadata": {
    "pycharm": {
     "name": "#%%\n"
    }
   },
   "outputs": [],
   "source": [
    "zoomdemodata.loc[zoomdemodata['age']=='DATA_EXPIRED', 'age'] = None\n",
    "zoomdemodata.age = zoomdemodata.age.astype('float')"
   ]
  },
  {
   "cell_type": "code",
   "execution_count": null,
   "id": "cd83d9c1-238b-45f6-ab4e-2e39ecc04af8",
   "metadata": {
    "pycharm": {
     "name": "#%%\n"
    }
   },
   "outputs": [],
   "source": [
    "zoomdemodata.age.unique()"
   ]
  },
  {
   "cell_type": "code",
   "execution_count": null,
   "id": "e50ea16d-eeb1-4cd3-bc13-272b101baf75",
   "metadata": {
    "pycharm": {
     "name": "#%%\n"
    }
   },
   "outputs": [],
   "source": [
    "zoomdemodatagroupby(['p_exp'])[['age']].agg(['mean', 'std'])"
   ]
  },
  {
   "cell_type": "code",
   "execution_count": null,
   "id": "bb684e30-cae5-400c-8fb2-58f010563f5b",
   "metadata": {
    "pycharm": {
     "name": "#%%\n"
    }
   },
   "outputs": [],
   "source": [
    "len(zoomdemodata[zoomdemodata['p_exp']==0.5])"
   ]
  },
  {
   "cell_type": "markdown",
   "id": "41e6e0ca-73e8-4d10-a6ad-3122008e2388",
   "metadata": {
    "pycharm": {
     "name": "#%% md\n"
    }
   },
   "source": [
    "#"
   ]
  },
  {
   "cell_type": "code",
   "execution_count": null,
   "id": "c7598702-7cd1-4e08-8286-a1ca88eec8f2",
   "metadata": {
    "pycharm": {
     "name": "#%%\n"
    }
   },
   "outputs": [],
   "source": [
    "zoomdata.subject.nunique()"
   ]
  },
  {
   "cell_type": "code",
   "execution_count": null,
   "id": "a24f0130-f4d6-4590-8132-2192a321ac01",
   "metadata": {
    "pycharm": {
     "name": "#%%\n"
    }
   },
   "outputs": [],
   "source": [
    "zoomdata[zoomdata.date>=20220830].subject.nunique()"
   ]
  },
  {
   "cell_type": "code",
   "execution_count": null,
   "id": "341f50ef-15c5-465a-93e8-6c36989dff52",
   "metadata": {
    "pycharm": {
     "name": "#%%\n"
    }
   },
   "outputs": [],
   "source": [
    "zoomdata[zoomdata.date<20220819].subject.nunique()"
   ]
  },
  {
   "cell_type": "code",
   "execution_count": null,
   "id": "02e29fa1-bd4b-4b00-bf67-0ea08bb22df5",
   "metadata": {
    "pycharm": {
     "name": "#%%\n"
    }
   },
   "outputs": [],
   "source": [
    "rand_subset = random.sample(list(zoomdata[zoomdata.date<20220819].subject.unique()), 5)"
   ]
  },
  {
   "cell_type": "code",
   "execution_count": null,
   "id": "2166f692-163e-4311-9352-3a79f1bc64d0",
   "metadata": {
    "pycharm": {
     "name": "#%%\n"
    }
   },
   "outputs": [],
   "source": [
    "rand_subset"
   ]
  },
  {
   "cell_type": "code",
   "execution_count": null,
   "id": "f4396033-2c5f-460d-9693-ea3ad4935a22",
   "metadata": {
    "pycharm": {
     "name": "#%%\n"
    }
   },
   "outputs": [],
   "source": [
    "zoomdata = zoomdata[~zoomdata.subject.isin(rand_subset)]"
   ]
  },
  {
   "cell_type": "code",
   "execution_count": null,
   "id": "0cd0740d-c0c6-4c22-8d72-1db43cdc43a0",
   "metadata": {
    "pycharm": {
     "name": "#%%\n"
    }
   },
   "outputs": [],
   "source": [
    "zoomdata[zoomdata.date<20220830].date.unique()"
   ]
  },
  {
   "cell_type": "code",
   "execution_count": null,
   "id": "09692977-974c-46d9-aa16-9b97ac53171e",
   "metadata": {
    "pycharm": {
     "name": "#%%\n"
    }
   },
   "outputs": [],
   "source": [
    "zoomdata[zoomdata.date==20220819].subject.nunique()"
   ]
  },
  {
   "cell_type": "code",
   "execution_count": null,
   "id": "2092e221-546f-41e3-9f51-f08bd23de886",
   "metadata": {
    "pycharm": {
     "name": "#%%\n"
    }
   },
   "outputs": [],
   "source": [
    "# compare with and without thorough explanation\n",
    "expldata = zoomdata[(zoomdata.date<20220819)|(zoomdata.date>=20220830)]\n",
    "expldata['training'] = np.nan"
   ]
  },
  {
   "cell_type": "code",
   "execution_count": null,
   "id": "7d6da803-3b20-402a-a50b-a153dff10f61",
   "metadata": {
    "pycharm": {
     "name": "#%%\n"
    }
   },
   "outputs": [],
   "source": [
    "expldata.subject.nunique()"
   ]
  },
  {
   "cell_type": "code",
   "execution_count": null,
   "id": "f0a28a48-c738-423e-9bab-c379cb2768fc",
   "metadata": {
    "pycharm": {
     "name": "#%%\n"
    }
   },
   "outputs": [],
   "source": [
    "expldata.loc[expldata.date<20220819, 'training'] = 'easy'\n",
    "expldata.loc[expldata.date>=20220830, 'training'] = 'hard'"
   ]
  },
  {
   "cell_type": "code",
   "execution_count": null,
   "id": "af76865f-8dd7-40a9-9edd-90d26c1d7aff",
   "metadata": {
    "pycharm": {
     "name": "#%%\n"
    }
   },
   "outputs": [],
   "source": [
    "expldata.training.unique()"
   ]
  },
  {
   "cell_type": "code",
   "execution_count": null,
   "id": "aa920f42-192f-4044-afd6-ae1aa7fe49ea",
   "metadata": {
    "pycharm": {
     "name": "#%%\n"
    }
   },
   "outputs": [],
   "source": [
    "expldata = compute_dprimes(expldata)"
   ]
  },
  {
   "cell_type": "code",
   "execution_count": null,
   "id": "4cca8996-9895-4e21-b150-ce3612c03ce7",
   "metadata": {
    "pycharm": {
     "name": "#%%\n"
    }
   },
   "outputs": [],
   "source": [
    "expldata.groupby(['training', 'expected'])[['dprime']].agg(['mean', 'sem'])"
   ]
  },
  {
   "cell_type": "code",
   "execution_count": null,
   "id": "ff2b554d-2b15-4c4b-a550-d9612006ca85",
   "metadata": {
    "pycharm": {
     "name": "#%%\n"
    }
   },
   "outputs": [],
   "source": [
    "aov = pg.mixed_anova(dv='hit', within='expected',\n",
    "                             between='training',\n",
    "                             subject='subject', \n",
    "                             data=expldata)\n",
    "pg.print_table(aov)"
   ]
  },
  {
   "cell_type": "code",
   "execution_count": null,
   "id": "e2bf396a-ae56-454d-8b43-af7541ba03f0",
   "metadata": {
    "pycharm": {
     "name": "#%%\n"
    }
   },
   "outputs": [],
   "source": [
    "aov = pg.mixed_anova(dv='dprime', within='expected',\n",
    "                             between='training',\n",
    "                             subject='subject', \n",
    "                             data=expldata)\n",
    "pg.print_table(aov)"
   ]
  },
  {
   "cell_type": "code",
   "execution_count": null,
   "id": "a5c91903-af85-4180-a251-71f6b3642a13",
   "metadata": {
    "pycharm": {
     "name": "#%%\n"
    }
   },
   "outputs": [],
   "source": [
    "sns.set(style='white')\n",
    "sns.set(rc={'figure.figsize':(8, 5)})\n",
    "b = sns.barplot(data=expldata, x='training', y='dprime', \n",
    "                hue_order = [1.0, 0.0],\n",
    "                hue='expected', palette='colorblind', ci=95)\n",
    "#b.set(ylim=(0.5, 1.0), ylabel='Accuracy')\n",
    "plt.tight_layout()"
   ]
  },
  {
   "cell_type": "code",
   "execution_count": null,
   "id": "c50f7cfa-7bd9-4651-b09c-e9119a7070c5",
   "metadata": {
    "pycharm": {
     "name": "#%%\n"
    }
   },
   "outputs": [],
   "source": [
    "explmeans = expldata.groupby(['subject', 'training', 'expected']).mean().reset_index()"
   ]
  },
  {
   "cell_type": "code",
   "execution_count": null,
   "id": "f0475e22-20a5-4db5-86a1-c29347acd7ee",
   "metadata": {
    "pycharm": {
     "name": "#%%\n"
    }
   },
   "outputs": [],
   "source": [
    "hardmeans = explmeans[explmeans['training']=='hard']\n",
    "pg.ttest(hardmeans[hardmeans['expected']==1]['dprime'],\n",
    "         hardmeans[hardmeans['expected']==0]['dprime'], paired=True)"
   ]
  },
  {
   "cell_type": "code",
   "execution_count": null,
   "id": "1e919a00-7d2d-461c-b916-26d3271426dd",
   "metadata": {
    "pycharm": {
     "name": "#%%\n"
    }
   },
   "outputs": [],
   "source": [
    "easymeans = explmeans[explmeans['training']=='easy']\n",
    "pg.ttest(easymeans[easymeans['expected']==1]['dprime'],\n",
    "         easymeans[easymeans['expected']==0]['dprime'], paired=True)"
   ]
  },
  {
   "cell_type": "code",
   "execution_count": null,
   "id": "0bb3be38-1f37-4f79-bd23-87cce989c442",
   "metadata": {
    "pycharm": {
     "name": "#%%\n"
    }
   },
   "outputs": [],
   "source": []
  }
 ],
 "metadata": {
  "kernelspec": {
   "display_name": "base",
   "language": "python",
   "name": "python3"
  },
  "language_info": {
   "codemirror_mode": {
    "name": "ipython",
    "version": 3
   },
   "file_extension": ".py",
   "mimetype": "text/x-python",
   "name": "python",
   "nbconvert_exporter": "python",
   "pygments_lexer": "ipython3",
   "version": "3.7.10"
  },
  "vscode": {
   "interpreter": {
    "hash": "40d3a090f54c6569ab1632332b64b2c03c39dcf918b08424e98f38b5ae0af88f"
   }
  }
 },
 "nbformat": 4,
 "nbformat_minor": 5
}
